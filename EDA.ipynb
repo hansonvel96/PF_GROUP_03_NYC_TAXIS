{
 "cells": [
  {
   "cell_type": "code",
   "execution_count": 1,
   "metadata": {
    "metadata": {}
   },
   "outputs": [],
   "source": [
    "import pandas as pd"
   ]
  },
  {
   "cell_type": "code",
   "execution_count": 2,
   "metadata": {
    "metadata": {}
   },
   "outputs": [],
   "source": [
    "df_car_data = pd.read_csv(r'Data/ElectricCarData_Clean.csv')"
   ]
  },
  {
   "cell_type": "code",
   "execution_count": 4,
   "metadata": {
    "metadata": {}
   },
   "outputs": [
    {
     "data": {
      "text/plain": [
       "Index(['Brand', 'Model', 'AccelSec', 'TopSpeed_KmH', 'Range_Km',\n",
       "       'Efficiency_WhKm', 'FastCharge_KmH', 'RapidCharge', 'PowerTrain',\n",
       "       'PlugType', 'BodyStyle', 'Segment', 'Seats', 'PriceEuro'],\n",
       "      dtype='object')"
      ]
     },
     "execution_count": 4,
     "metadata": {},
     "output_type": "execute_result"
    }
   ],
   "source": [
    "df_car_data.columns"
   ]
  },
  {
   "cell_type": "code",
   "execution_count": 5,
   "metadata": {
    "metadata": {}
   },
   "outputs": [],
   "source": [
    "df_car_data_2 = pd.read_csv(r'Data/ElectricCarData_Norm.csv')"
   ]
  },
  {
   "cell_type": "code",
   "execution_count": 6,
   "metadata": {
    "metadata": {}
   },
   "outputs": [
    {
     "data": {
      "text/plain": [
       "Index(['Brand', 'Model', 'Accel', 'TopSpeed', 'Range', 'Efficiency',\n",
       "       'FastCharge', 'RapidCharge', 'PowerTrain', 'PlugType', 'BodyStyle',\n",
       "       'Segment', 'Seats', 'PriceEuro'],\n",
       "      dtype='object')"
      ]
     },
     "execution_count": 6,
     "metadata": {},
     "output_type": "execute_result"
    }
   ],
   "source": [
    "df_car_data_2.columns"
   ]
  },
  {
   "cell_type": "code",
   "execution_count": 7,
   "metadata": {
    "metadata": {}
   },
   "outputs": [],
   "source": [
    "from dbfread import DBF"
   ]
  },
  {
   "cell_type": "code",
   "execution_count": 8,
   "metadata": {
    "metadata": {}
   },
   "outputs": [],
   "source": [
    "df_taxi = pd.read_csv(r'Data/taxi+_zone_lookup.csv')\n",
    "table = DBF(r'Data/taxi_zones.dbf')\n",
    "df_taxi_2 = pd.DataFrame(iter(table))"
   ]
  },
  {
   "cell_type": "code",
   "execution_count": 9,
   "metadata": {
    "metadata": {}
   },
   "outputs": [
    {
     "data": {
      "text/plain": [
       "Index(['LocationID', 'Borough', 'Zone', 'service_zone'], dtype='object')"
      ]
     },
     "execution_count": 9,
     "metadata": {},
     "output_type": "execute_result"
    }
   ],
   "source": [
    "df_taxi.columns"
   ]
  },
  {
   "cell_type": "code",
   "execution_count": 10,
   "metadata": {
    "metadata": {}
   },
   "outputs": [
    {
     "data": {
      "text/plain": [
       "Index(['OBJECTID', 'Shape_Leng', 'Shape_Area', 'zone', 'LocationID',\n",
       "       'borough'],\n",
       "      dtype='object')"
      ]
     },
     "execution_count": 10,
     "metadata": {},
     "output_type": "execute_result"
    }
   ],
   "source": [
    "df_taxi_2.columns"
   ]
  },
  {
   "cell_type": "code",
   "execution_count": 11,
   "metadata": {
    "metadata": {}
   },
   "outputs": [],
   "source": [
    "df_light = pd.read_csv(r'Data/Light Duty Vehicles.csv')"
   ]
  },
  {
   "cell_type": "code",
   "execution_count": 12,
   "metadata": {
    "metadata": {}
   },
   "outputs": [
    {
     "data": {
      "text/plain": [
       "Index(['Vehicle ID', 'Fuel ID', 'Fuel Configuration ID', 'Manufacturer ID',\n",
       "       'Category ID', 'Model', 'Model Year', 'Alternative Fuel Economy City',\n",
       "       'Alternative Fuel Economy Highway', 'Alternative Fuel Economy Combined',\n",
       "       'Conventional Fuel Economy City', 'Conventional Fuel Economy Highway',\n",
       "       'Conventional Fuel Economy Combined', 'Transmission Type',\n",
       "       'Engine Type', 'Engine Size', 'Engine Cylinder Count',\n",
       "       'Engine Description', 'Manufacturer', 'Manufacturer URL', 'Category',\n",
       "       'Fuel Code', 'Fuel', 'Fuel Configuration Name', 'Electric-Only Range',\n",
       "       'PHEV Total Range', 'PHEV Type', 'Notes', 'Drivetrain'],\n",
       "      dtype='object')"
      ]
     },
     "execution_count": 12,
     "metadata": {},
     "output_type": "execute_result"
    }
   ],
   "source": [
    "df_light.columns"
   ]
  },
  {
   "cell_type": "code",
   "execution_count": 14,
   "metadata": {
    "metadata": {}
   },
   "outputs": [
    {
     "name": "stderr",
     "output_type": "stream",
     "text": [
      "C:\\Users\\augus\\AppData\\Local\\Temp\\ipykernel_12764\\652067585.py:1: DtypeWarning: Columns (73,75) have mixed types. Specify dtype option on import or set low_memory=False.\n",
      "  df_fuel = pd.read_csv(r'Data/Vehicle Fuel Economy Data.csv')\n"
     ]
    }
   ],
   "source": [
    "df_fuel = pd.read_csv(r'Data/Vehicle Fuel Economy Data.csv')"
   ]
  },
  {
   "cell_type": "code",
   "execution_count": 15,
   "metadata": {
    "metadata": {}
   },
   "outputs": [
    {
     "data": {
      "text/plain": [
       "Index(['Year', 'Manufacturer', 'Model', 'barrels08', 'barrelsA08', 'charge240',\n",
       "       'city08', 'city08U', 'cityA08', 'cityA08U', 'cityCD', 'cityE', 'cityUF',\n",
       "       'co2', 'co2A', 'co2TailpipeAGpm', 'co2TailpipeGpm', 'comb08', 'comb08U',\n",
       "       'combA08', 'combA08U', 'combE', 'combinedCD', 'combinedUF', 'cylinders',\n",
       "       'displ', 'drive', 'engId', 'eng_dscr', 'feScore', 'fuelCost08',\n",
       "       'fuelCostA08', 'fuelType', 'fuelType1', 'ghgScore', 'ghgScoreA',\n",
       "       'highway08', 'highway08U', 'highwayA08', 'highwayA08U', 'VClass',\n",
       "       'highwayCD', 'highwayE', 'highwayUF', 'hlv', 'hpv', 'id', 'lv2', 'lv4',\n",
       "       'mpgData', 'phevBlended', 'pv2', 'pv4', 'range', 'rangeCity',\n",
       "       'rangeCityA', 'rangeHwy', 'rangeHwyA', 'trany', 'UCity', 'UCityA',\n",
       "       'UHighway', 'UHighwayA', 'youSaveSpend', 'guzzler', 'trans_dscr',\n",
       "       'tCharger', 'sCharger', 'atvType', 'fuelType2', 'rangeA', 'evMotor',\n",
       "       'mfrCode', 'c240Dscr', 'charge240b', 'c240bDscr', 'createdOn',\n",
       "       'modifiedOn', 'startStop', 'phevCity', 'phevHwy', 'phevComb'],\n",
       "      dtype='object')"
      ]
     },
     "execution_count": 15,
     "metadata": {},
     "output_type": "execute_result"
    }
   ],
   "source": [
    "df_fuel.columns"
   ]
  },
  {
   "cell_type": "code",
   "execution_count": 16,
   "metadata": {
    "metadata": {}
   },
   "outputs": [],
   "source": [
    "df_alternative = pd.read_csv(r'Data/Alternative Fuel Vehicles US.csv')"
   ]
  },
  {
   "cell_type": "code",
   "execution_count": 18,
   "metadata": {
    "metadata": {}
   },
   "outputs": [
    {
     "name": "stderr",
     "output_type": "stream",
     "text": [
      "C:\\Users\\augus\\AppData\\Local\\Temp\\ipykernel_12764\\712642500.py:1: DtypeWarning: Columns (6,16,20,31,33,36,39,40,41,43,46,52,53,55,57,58,60,62) have mixed types. Specify dtype option on import or set low_memory=False.\n",
      "  df_electric_alternative = pd.read_csv(r'Data/Electric and Alternative Fuel Charging Stations.csv')\n"
     ]
    }
   ],
   "source": [
    "df_electric_alternative = pd.read_csv(r'Data/Electric and Alternative Fuel Charging Stations.csv')"
   ]
  },
  {
   "cell_type": "code",
   "execution_count": 19,
   "metadata": {
    "metadata": {}
   },
   "outputs": [
    {
     "data": {
      "text/plain": [
       "Index(['Fuel Type Code', 'Station Name', 'Street Address',\n",
       "       'Intersection Directions', 'City', 'State', 'ZIP', 'Plus4',\n",
       "       'Station Phone', 'Status Code', 'Expected Date',\n",
       "       'Groups With Access Code', 'Access Days Time', 'Cards Accepted',\n",
       "       'BD Blends', 'NG Fill Type Code', 'NG PSI', 'EV Level1 EVSE Num',\n",
       "       'EV Level2 EVSE Num', 'EV DC Fast Count', 'EV Other Info', 'EV Network',\n",
       "       'EV Network Web', 'Geocode Status', 'Latitude', 'Longitude',\n",
       "       'Date Last Confirmed', 'ID', 'Updated At', 'Owner Type Code',\n",
       "       'Federal Agency ID', 'Federal Agency Name', 'Open Date',\n",
       "       'Hydrogen Status Link', 'NG Vehicle Class', 'LPG Primary',\n",
       "       'E85 Blender Pump', 'EV Connector Types', 'Country',\n",
       "       'Intersection Directions (French)', 'Access Days Time (French)',\n",
       "       'BD Blends (French)', 'Groups With Access Code (French)',\n",
       "       'Hydrogen Is Retail', 'Access Code', 'Access Detail Code',\n",
       "       'Federal Agency Code', 'Facility Type', 'CNG Dispenser Num',\n",
       "       'CNG On-Site Renewable Source', 'CNG Total Compression Capacity',\n",
       "       'CNG Storage Capacity', 'LNG On-Site Renewable Source',\n",
       "       'E85 Other Ethanol Blends', 'EV Pricing', 'EV Pricing (French)',\n",
       "       'LPG Nozzle Types', 'Hydrogen Pressures', 'Hydrogen Standards',\n",
       "       'CNG Fill Type Code', 'CNG PSI', 'CNG Vehicle Class',\n",
       "       'LNG Vehicle Class', 'EV On-Site Renewable Source',\n",
       "       'Restricted Access'],\n",
       "      dtype='object')"
      ]
     },
     "execution_count": 19,
     "metadata": {},
     "output_type": "execute_result"
    }
   ],
   "source": [
    "df_electric_alternative.columns"
   ]
  }
 ],
 "metadata": {
  "kernelspec": {
   "display_name": "Python 3",
   "language": "python",
   "name": "python3"
  },
  "language_info": {
   "codemirror_mode": {
    "name": "ipython",
    "version": 3
   },
   "file_extension": ".py",
   "mimetype": "text/x-python",
   "name": "python",
   "nbconvert_exporter": "python",
   "pygments_lexer": "ipython3",
   "version": "3.10.0"
  }
 },
 "nbformat": 4,
 "nbformat_minor": 2
}
