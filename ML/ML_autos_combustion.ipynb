{
 "cells": [
  {
   "cell_type": "code",
   "execution_count": 18,
   "metadata": {},
   "outputs": [],
   "source": [
    "#Importamos las librerias que vamos a utilizar.\n",
    "import pandas as pd\n",
    "import numpy as np\n",
    "from sklearn.model_selection import train_test_split\n",
    "from sklearn.linear_model import LogisticRegression\n",
    "from sklearn.metrics import classification_report, confusion_matrix, accuracy_score\n",
    "\n",
    "#Definimos el DataFrame con el archivo correspondiente\n",
    "df= pd.read_parquet(r'C:\\Users\\Alañ\\Pictures\\prueba\\Datasets\\nuevos\\autos_combustion.parquet')\n",
    "\n",
    "#Lo copiamos y hacemos las distintas transformaciones, descartando las columnas que no nos sirven\n",
    "df_combustion = df.copy()\n",
    "df_combustion.drop(columns=['EconomiaCombustibleCiudad','EconomiaCombustibleCarretera', 'EconomiaCombustibleCombinada','TipoTransmision',\n",
    "                            'TipoMotor', 'TamanoMotor', 'CantidadCilindrosMotor','Traccion','CO2EscapeGpm', 'TipoCombustible'], inplace=True)\n",
    "df_combustion.replace(to_replace=pd.NA, value=0, inplace=True)\n",
    "df_combustion['CO2_Tipo'] = (df_combustion['CO2'] > df_combustion['CO2'].median()).astype(int)\n",
    "\n",
    "#Creamos las variables dummies\n",
    "df_combustion = pd.get_dummies(df_combustion, columns=['Fabricante', 'Categoria'])\n",
    "\n",
    "#Definimos los datos dependientes e independientes\n",
    "X = df_combustion.drop(['Modelo', 'Combustible', 'CO2','CO2_Tipo'], axis=1)\n",
    "y = df_combustion['CO2_Tipo']\n",
    "\n",
    "#Entrenamos el modelo\n",
    "modelo = LogisticRegression(max_iter=1000)\n",
    "modelo.fit(X, y)\n",
    "\n",
    "\n",
    "#Funcion de recomendación de autos menos contaminantes.\n",
    "def recomendacionAuto(fabricante):\n",
    "    #Buscamos los autos que copartan Fabricante/Marca\n",
    "    Fabricante_dummie = 'Fabricante_' + fabricante\n",
    "    df_fabricante = df_combustion[df_combustion[Fabricante_dummie] == 1].copy()\n",
    "\n",
    "    #Guardamos los datos de Modelo, COmbustible y cantidad de\n",
    "    #CO2 emitido para usarlo más adelante, luego las descartamos\n",
    "    modelos_autos = df_fabricante['Modelo']\n",
    "    modelo_combustible = df_fabricante['Combustible']\n",
    "    modelo_co2 = df_fabricante['CO2']\n",
    "    df_fabricante.drop(['Modelo', 'Combustible', 'CO2','CO2_Tipo'], axis=1, inplace=True)\n",
    "    \n",
    "    df_fabricante = pd.get_dummies(df_fabricante)\n",
    "\n",
    "    \n",
    "    probabilidad_emision_alta = modelo.predict_proba(df_fabricante)[:, 1]\n",
    "    df_fabricante['Probabilidad_Emision_Alta'] = probabilidad_emision_alta\n",
    "\n",
    "    #Agregamos nuevamente las columnas anteriores\n",
    "    df_fabricante['Modelo'] = modelos_autos\n",
    "    df_fabricante['Combustible'] = modelo_combustible\n",
    "    df_fabricante['CO2'] = modelo_co2\n",
    "\n",
    "    #Filtramos los Modelos por la cantidad de emision\n",
    "    df_fabricante = df_fabricante.sort_values(by='Probabilidad_Emision_Alta', ascending=True)\n",
    "\n",
    "    #Traspasamos los datos para mostrarlos al final \n",
    "    modelos_final = pd.DataFrame(df_fabricante['Modelo'])\n",
    "    modelos_final['AnoModelo'] = df_fabricante['AnoModelo']\n",
    "    modelos_final['Combustible'] = df_fabricante['Combustible']\n",
    "    modelos_final['CO2'] = df_fabricante['CO2']\n",
    "    \n",
    "    #Convertimos en lista para facilitar mostrar los datos por pantalla\n",
    "    recomendaciones_modelo = modelos_final.head(5)['Modelo'].tolist()\n",
    "    recomendaciones_anio = modelos_final.head(5)['AnoModelo'].tolist()\n",
    "    recomendaciones_combustible = modelos_final.head(5)['Combustible'].tolist()\n",
    "    \n",
    "    #Mostramos por pantalla el resultado\n",
    "    recomendaciones = 'Estas son modelos de autos que nosotros recomendamos para la marca ' + str(fabricante) + ' que tienen un menor impacto ambiental.\\n'\n",
    "    for i in range(0,len(recomendaciones_modelo)):\n",
    "        recomendaciones += 'Modelo ' + str(i+1) + ': ' + str(recomendaciones_modelo[i]) + ' del año ' + str(recomendaciones_anio[i]) + ', Combustible: ' + str(recomendaciones_combustible[i]) + '\\n'\n",
    "    return print(recomendaciones)"
   ]
  },
  {
   "cell_type": "code",
   "execution_count": 19,
   "metadata": {},
   "outputs": [
    {
     "name": "stdout",
     "output_type": "stream",
     "text": [
      "Estas son modelos de autos que nosotros recomendamos para la marca Audi que tienen un menor impacto ambiental.\n",
      "Modelo 1: A3 quattro del año 2022, Combustible: Hybrid Electric\n",
      "Modelo 2: RS Q8 del año 2022, Combustible: Hybrid Electric\n",
      "Modelo 3: S6 del año 2022, Combustible: Hybrid Electric\n",
      "Modelo 4: S7 del año 2022, Combustible: Hybrid Electric\n",
      "Modelo 5: S8 del año 2022, Combustible: Hybrid Electric\n",
      "\n"
     ]
    }
   ],
   "source": [
    "recomendacionAuto('Audi')"
   ]
  }
 ],
 "metadata": {
  "kernelspec": {
   "display_name": "Python 3",
   "language": "python",
   "name": "python3"
  },
  "language_info": {
   "codemirror_mode": {
    "name": "ipython",
    "version": 3
   },
   "file_extension": ".py",
   "mimetype": "text/x-python",
   "name": "python",
   "nbconvert_exporter": "python",
   "pygments_lexer": "ipython3",
   "version": "3.11.9"
  }
 },
 "nbformat": 4,
 "nbformat_minor": 2
}
