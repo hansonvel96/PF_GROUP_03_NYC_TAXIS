{
 "cells": [
  {
   "cell_type": "code",
   "execution_count": 60,
   "metadata": {},
   "outputs": [
    {
     "name": "stderr",
     "output_type": "stream",
     "text": [
      "C:\\Users\\Alañ\\AppData\\Local\\Packages\\PythonSoftwareFoundation.Python.3.11_qbz5n2kfra8p0\\LocalCache\\local-packages\\Python311\\site-packages\\google\\cloud\\bigquery\\table.py:1727: UserWarning: BigQuery Storage module not found, fetch data with the REST endpoint instead.\n",
      "  warnings.warn(\n"
     ]
    },
    {
     "name": "stdout",
     "output_type": "stream",
     "text": [
      "Test MAE -  10.573701637965415\n"
     ]
    }
   ],
   "source": [
    "from datetime import datetime\n",
    "import pandas as pd\n",
    "from google.cloud import bigquery\n",
    "from google.oauth2 import service_account\n",
    "from sklearn.ensemble import RandomForestRegressor\n",
    "from sklearn.metrics import mean_absolute_error\n",
    "from sklearn.model_selection import train_test_split\n",
    "from sklearn.preprocessing import LabelEncoder\n",
    "import os\n",
    "\n",
    "current_directory = os.getcwd()\n",
    "\n",
    "PROJECT_ID = 'pf-group-03-nyc-taxis-427021'\n",
    "BUCKET_NAME = 'datasets-taxis'\n",
    "SAVE_BUCKET = current_directory\n",
    "TAXI_TYPE = 'green'\n",
    "\n",
    "os.environ[\"GOOGLE_APPLICATION_CREDENTIALS\"] = f\"{current_directory}/pf-group-03-nyc-taxis-427021-0b50b328c30e.json\"\n",
    "\n",
    "def read_data(taxi_type):\n",
    "    credentials = service_account.Credentials.from_service_account_file(\n",
    "        os.environ[\"GOOGLE_APPLICATION_CREDENTIALS\"]\n",
    "    )\n",
    "    client = bigquery.Client(credentials=credentials, project=PROJECT_ID)\n",
    "    query = f\"SELECT * FROM `tablas.ML_{taxi_type}`\"\n",
    "    df = client.query(query).to_dataframe()\n",
    "    return df\n",
    "\n",
    "def prepare_data(df):\n",
    "    # Codificar las variables categóricas usando LabelEncoder\n",
    "    label_encoder = LabelEncoder()\n",
    "    df['distrito_subida'] = label_encoder.fit_transform(df['distrito_subida'])\n",
    "    df['dia_semana'] = label_encoder.fit_transform(df['dia_semana'])\n",
    "    return df[['distrito_subida', 'hora', 'cantidad', 'dia_semana']], label_encoder\n",
    "\n",
    "def split_data(X, y):\n",
    "    return train_test_split(X, y, test_size=0.2, random_state=42)\n",
    "\n",
    "def train_model(X_train, y_train):\n",
    "    rf = RandomForestRegressor(max_depth=5, random_state=42)\n",
    "    rf.fit(X_train, y_train)\n",
    "    return rf\n",
    "\n",
    "def evaluate_model(model, X_test, y_test):\n",
    "    predictions = model.predict(X_test)\n",
    "    mae = mean_absolute_error(y_test, predictions)\n",
    "    print(\"Test MAE - \", mae)\n",
    "    return mae\n",
    "\n",
    "def save_model(model, save_bucket, taxi_type):\n",
    "    import joblib\n",
    "    timestamp = datetime.now().strftime(\"%Y_%m_%d\")\n",
    "    model_path = f\"{save_bucket}/rf_{taxi_type}_model_{timestamp}.pkl\"\n",
    "    joblib.dump(model, model_path)\n",
    "\n",
    "def main():\n",
    "    df = read_data(TAXI_TYPE)\n",
    "    df, label_encoder = prepare_data(df)\n",
    "    X = df[['distrito_subida', 'hora', 'dia_semana']]\n",
    "    y = df['cantidad']\n",
    "    X_train, X_test, y_train, y_test = split_data(X, y)\n",
    "    model = train_model(X_train, y_train)\n",
    "    evaluate_model(model, X_test, y_test)\n",
    "    save_model(model, SAVE_BUCKET, TAXI_TYPE)\n",
    "\n",
    "if __name__ == \"__main__\":\n",
    "    main()\n"
   ]
  }
 ],
 "metadata": {
  "kernelspec": {
   "display_name": "Python 3",
   "language": "python",
   "name": "python3"
  },
  "language_info": {
   "codemirror_mode": {
    "name": "ipython",
    "version": 3
   },
   "file_extension": ".py",
   "mimetype": "text/x-python",
   "name": "python",
   "nbconvert_exporter": "python",
   "pygments_lexer": "ipython3",
   "version": "3.11.9"
  }
 },
 "nbformat": 4,
 "nbformat_minor": 2
}
