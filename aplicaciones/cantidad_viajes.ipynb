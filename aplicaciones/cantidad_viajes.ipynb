{
 "cells": [
  {
   "cell_type": "code",
   "execution_count": 4,
   "metadata": {},
   "outputs": [
    {
     "name": "stdout",
     "output_type": "stream",
     "text": [
      "Predicción de cantidad de viajes: [5.44220834]\n"
     ]
    }
   ],
   "source": [
    "import pandas as pd\n",
    "import joblib\n",
    "from sklearn.preprocessing import LabelEncoder\n",
    "\n",
    "def predict_taxi_trips(distrito_subida, hora, dia_semana):\n",
    "    # Cargar el modelo guardado\n",
    "    model = joblib.load(\"../ML/rf_green_model_2024_07_05.pkl\")\n",
    "\n",
    "    # Inicializar y ajustar el LabelEncoder\n",
    "    label_encoder = LabelEncoder()\n",
    "    label_encoder.fit(['Bronx', 'Manhattan', 'Queens', 'Brooklyn', 'Staten Island'])  # Ajustar con las categorías utilizadas durante el entrenamiento\n",
    "\n",
    "    # Codificar distrito_subida\n",
    "    distrito_encoded = label_encoder.transform([distrito_subida])[0]\n",
    "\n",
    "    # Preparar los datos de entrada\n",
    "    X_pred = pd.DataFrame({'distrito_subida': [distrito_encoded], 'hora': [hora], 'dia_semana': [dia_semana]})\n",
    "\n",
    "    # Realizar la predicción\n",
    "    prediction = model.predict(X_pred)\n",
    "\n",
    "    return prediction\n",
    "\n",
    "def main():\n",
    "    distrito_subida = input(\"Ingrese el distrito de subida (Bronx, Manhattan, Queens, Brooklyn, Staten Island): \")\n",
    "    hora = int(input(\"Ingrese la hora del día (0-23): \"))\n",
    "    dia_semana = int(input(\"Ingrese el día de la semana (1-7): \"))\n",
    "\n",
    "    # Realizar la predicción\n",
    "    prediction = predict_taxi_trips(distrito_subida, hora, dia_semana)\n",
    "\n",
    "    print(f\"Predicción de cantidad de viajes: {prediction}\")\n",
    "\n",
    "if __name__ == \"__main__\":\n",
    "    main()\n"
   ]
  }
 ],
 "metadata": {
  "kernelspec": {
   "display_name": "Python 3",
   "language": "python",
   "name": "python3"
  },
  "language_info": {
   "codemirror_mode": {
    "name": "ipython",
    "version": 3
   },
   "file_extension": ".py",
   "mimetype": "text/x-python",
   "name": "python",
   "nbconvert_exporter": "python",
   "pygments_lexer": "ipython3",
   "version": "3.11.9"
  }
 },
 "nbformat": 4,
 "nbformat_minor": 2
}
