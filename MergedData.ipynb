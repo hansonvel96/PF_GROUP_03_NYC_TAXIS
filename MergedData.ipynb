{
 "cells": [
  {
   "cell_type": "code",
   "execution_count": 2,
   "metadata": {
    "metadata": {}
   },
   "outputs": [],
   "source": [
    "import pandas as pd\n",
    "from dbfread import DBF"
   ]
  },
  {
   "cell_type": "code",
   "execution_count": 3,
   "metadata": {
    "metadata": {}
   },
   "outputs": [],
   "source": [
    "# Cargar los datasets\n",
    "df1 = pd.read_csv(r'Data/ElectricCarData_Clean.csv')\n",
    "df2 = pd.read_csv(r'Data/ElectricCarData_Norm.csv')\n",
    "\n",
    "# Unir usando las columnas comunes\n",
    "df_combined_1_2 = pd.merge(df1, df2, on=['Brand', 'Model'])"
   ]
  },
  {
   "cell_type": "code",
   "execution_count": 4,
   "metadata": {
    "metadata": {}
   },
   "outputs": [
    {
     "name": "stdout",
     "output_type": "stream",
     "text": [
      "<class 'pandas.core.frame.DataFrame'>\n",
      "RangeIndex: 103 entries, 0 to 102\n",
      "Data columns (total 14 columns):\n",
      " #   Column           Non-Null Count  Dtype  \n",
      "---  ------           --------------  -----  \n",
      " 0   Brand            103 non-null    object \n",
      " 1   Model            103 non-null    object \n",
      " 2   AccelSec         103 non-null    float64\n",
      " 3   TopSpeed_KmH     103 non-null    int64  \n",
      " 4   Range_Km         103 non-null    int64  \n",
      " 5   Efficiency_WhKm  103 non-null    int64  \n",
      " 6   FastCharge_KmH   103 non-null    object \n",
      " 7   RapidCharge      103 non-null    object \n",
      " 8   PowerTrain       103 non-null    object \n",
      " 9   PlugType         103 non-null    object \n",
      " 10  BodyStyle        103 non-null    object \n",
      " 11  Segment          103 non-null    object \n",
      " 12  Seats            103 non-null    int64  \n",
      " 13  PriceEuro        103 non-null    int64  \n",
      "dtypes: float64(1), int64(5), object(8)\n",
      "memory usage: 11.4+ KB\n"
     ]
    }
   ],
   "source": [
    "df1.info()"
   ]
  },
  {
   "cell_type": "code",
   "execution_count": 5,
   "metadata": {
    "metadata": {}
   },
   "outputs": [
    {
     "name": "stdout",
     "output_type": "stream",
     "text": [
      "<class 'pandas.core.frame.DataFrame'>\n",
      "RangeIndex: 103 entries, 0 to 102\n",
      "Data columns (total 14 columns):\n",
      " #   Column       Non-Null Count  Dtype \n",
      "---  ------       --------------  ----- \n",
      " 0   Brand        103 non-null    object\n",
      " 1   Model        103 non-null    object\n",
      " 2   Accel        103 non-null    object\n",
      " 3   TopSpeed     103 non-null    object\n",
      " 4   Range        103 non-null    object\n",
      " 5   Efficiency   103 non-null    object\n",
      " 6   FastCharge   103 non-null    object\n",
      " 7   RapidCharge  103 non-null    object\n",
      " 8   PowerTrain   103 non-null    object\n",
      " 9   PlugType     103 non-null    object\n",
      " 10  BodyStyle    103 non-null    object\n",
      " 11  Segment      103 non-null    object\n",
      " 12  Seats        103 non-null    int64 \n",
      " 13  PriceEuro    103 non-null    int64 \n",
      "dtypes: int64(2), object(12)\n",
      "memory usage: 11.4+ KB\n"
     ]
    }
   ],
   "source": [
    "df2.info()"
   ]
  },
  {
   "cell_type": "code",
   "execution_count": 6,
   "metadata": {
    "metadata": {}
   },
   "outputs": [
    {
     "name": "stdout",
     "output_type": "stream",
     "text": [
      "<class 'pandas.core.frame.DataFrame'>\n",
      "RangeIndex: 105 entries, 0 to 104\n",
      "Data columns (total 26 columns):\n",
      " #   Column           Non-Null Count  Dtype  \n",
      "---  ------           --------------  -----  \n",
      " 0   Brand            105 non-null    object \n",
      " 1   Model            105 non-null    object \n",
      " 2   AccelSec         105 non-null    float64\n",
      " 3   TopSpeed_KmH     105 non-null    int64  \n",
      " 4   Range_Km         105 non-null    int64  \n",
      " 5   Efficiency_WhKm  105 non-null    int64  \n",
      " 6   FastCharge_KmH   105 non-null    object \n",
      " 7   RapidCharge_x    105 non-null    object \n",
      " 8   PowerTrain_x     105 non-null    object \n",
      " 9   PlugType_x       105 non-null    object \n",
      " 10  BodyStyle_x      105 non-null    object \n",
      " 11  Segment_x        105 non-null    object \n",
      " 12  Seats_x          105 non-null    int64  \n",
      " 13  PriceEuro_x      105 non-null    int64  \n",
      " 14  Accel            105 non-null    object \n",
      " 15  TopSpeed         105 non-null    object \n",
      " 16  Range            105 non-null    object \n",
      " 17  Efficiency       105 non-null    object \n",
      " 18  FastCharge       105 non-null    object \n",
      " 19  RapidCharge_y    105 non-null    object \n",
      " 20  PowerTrain_y     105 non-null    object \n",
      " 21  PlugType_y       105 non-null    object \n",
      " 22  BodyStyle_y      105 non-null    object \n",
      " 23  Segment_y        105 non-null    object \n",
      " 24  Seats_y          105 non-null    int64  \n",
      " 25  PriceEuro_y      105 non-null    int64  \n",
      "dtypes: float64(1), int64(7), object(18)\n",
      "memory usage: 21.5+ KB\n"
     ]
    }
   ],
   "source": [
    "df_combined_1_2.info()"
   ]
  },
  {
   "cell_type": "code",
   "execution_count": 7,
   "metadata": {
    "metadata": {}
   },
   "outputs": [
    {
     "data": {
      "text/plain": [
       "Index(['Brand', 'Model', 'AccelSec', 'TopSpeed_KmH', 'Range_Km',\n",
       "       'Efficiency_WhKm', 'FastCharge_KmH', 'RapidCharge_x', 'PowerTrain_x',\n",
       "       'PlugType_x', 'BodyStyle_x', 'Segment_x', 'Seats_x', 'PriceEuro_x',\n",
       "       'Accel', 'TopSpeed', 'Range', 'Efficiency', 'FastCharge',\n",
       "       'RapidCharge_y', 'PowerTrain_y', 'PlugType_y', 'BodyStyle_y',\n",
       "       'Segment_y', 'Seats_y', 'PriceEuro_y'],\n",
       "      dtype='object')"
      ]
     },
     "execution_count": 7,
     "metadata": {},
     "output_type": "execute_result"
    }
   ],
   "source": [
    "df_combined_1_2.columns"
   ]
  },
  {
   "cell_type": "code",
   "execution_count": 8,
   "metadata": {
    "metadata": {}
   },
   "outputs": [],
   "source": [
    "df_combined_1_2.drop(columns=['Accel', 'TopSpeed', 'Range', 'Efficiency', 'FastCharge', 'RapidCharge_y', 'PowerTrain_y', 'PlugType_y', 'BodyStyle_y', 'Segment_y', 'Seats_y', 'PriceEuro_y'], inplace=True)"
   ]
  },
  {
   "cell_type": "code",
   "execution_count": 9,
   "metadata": {
    "metadata": {}
   },
   "outputs": [
    {
     "data": {
      "text/html": [
       "<div>\n",
       "<style scoped>\n",
       "    .dataframe tbody tr th:only-of-type {\n",
       "        vertical-align: middle;\n",
       "    }\n",
       "\n",
       "    .dataframe tbody tr th {\n",
       "        vertical-align: top;\n",
       "    }\n",
       "\n",
       "    .dataframe thead th {\n",
       "        text-align: right;\n",
       "    }\n",
       "</style>\n",
       "<table border=\"1\" class=\"dataframe\">\n",
       "  <thead>\n",
       "    <tr style=\"text-align: right;\">\n",
       "      <th></th>\n",
       "      <th>Brand</th>\n",
       "      <th>Model</th>\n",
       "      <th>AccelSec</th>\n",
       "      <th>TopSpeed_KmH</th>\n",
       "      <th>Range_Km</th>\n",
       "      <th>Efficiency_WhKm</th>\n",
       "      <th>FastCharge_KmH</th>\n",
       "      <th>RapidCharge_x</th>\n",
       "      <th>PowerTrain_x</th>\n",
       "      <th>PlugType_x</th>\n",
       "      <th>BodyStyle_x</th>\n",
       "      <th>Segment_x</th>\n",
       "      <th>Seats_x</th>\n",
       "      <th>PriceEuro_x</th>\n",
       "    </tr>\n",
       "  </thead>\n",
       "  <tbody>\n",
       "    <tr>\n",
       "      <th>0</th>\n",
       "      <td>Tesla</td>\n",
       "      <td>Model 3 Long Range Dual Motor</td>\n",
       "      <td>4.6</td>\n",
       "      <td>233</td>\n",
       "      <td>450</td>\n",
       "      <td>161</td>\n",
       "      <td>940</td>\n",
       "      <td>Yes</td>\n",
       "      <td>AWD</td>\n",
       "      <td>Type 2 CCS</td>\n",
       "      <td>Sedan</td>\n",
       "      <td>D</td>\n",
       "      <td>5</td>\n",
       "      <td>55480</td>\n",
       "    </tr>\n",
       "    <tr>\n",
       "      <th>1</th>\n",
       "      <td>Volkswagen</td>\n",
       "      <td>ID.3 Pure</td>\n",
       "      <td>10.0</td>\n",
       "      <td>160</td>\n",
       "      <td>270</td>\n",
       "      <td>167</td>\n",
       "      <td>250</td>\n",
       "      <td>Yes</td>\n",
       "      <td>RWD</td>\n",
       "      <td>Type 2 CCS</td>\n",
       "      <td>Hatchback</td>\n",
       "      <td>C</td>\n",
       "      <td>5</td>\n",
       "      <td>30000</td>\n",
       "    </tr>\n",
       "    <tr>\n",
       "      <th>2</th>\n",
       "      <td>Polestar</td>\n",
       "      <td>2</td>\n",
       "      <td>4.7</td>\n",
       "      <td>210</td>\n",
       "      <td>400</td>\n",
       "      <td>181</td>\n",
       "      <td>620</td>\n",
       "      <td>Yes</td>\n",
       "      <td>AWD</td>\n",
       "      <td>Type 2 CCS</td>\n",
       "      <td>Liftback</td>\n",
       "      <td>D</td>\n",
       "      <td>5</td>\n",
       "      <td>56440</td>\n",
       "    </tr>\n",
       "    <tr>\n",
       "      <th>3</th>\n",
       "      <td>BMW</td>\n",
       "      <td>iX3</td>\n",
       "      <td>6.8</td>\n",
       "      <td>180</td>\n",
       "      <td>360</td>\n",
       "      <td>206</td>\n",
       "      <td>560</td>\n",
       "      <td>Yes</td>\n",
       "      <td>RWD</td>\n",
       "      <td>Type 2 CCS</td>\n",
       "      <td>SUV</td>\n",
       "      <td>D</td>\n",
       "      <td>5</td>\n",
       "      <td>68040</td>\n",
       "    </tr>\n",
       "    <tr>\n",
       "      <th>4</th>\n",
       "      <td>Honda</td>\n",
       "      <td>e</td>\n",
       "      <td>9.5</td>\n",
       "      <td>145</td>\n",
       "      <td>170</td>\n",
       "      <td>168</td>\n",
       "      <td>190</td>\n",
       "      <td>Yes</td>\n",
       "      <td>RWD</td>\n",
       "      <td>Type 2 CCS</td>\n",
       "      <td>Hatchback</td>\n",
       "      <td>B</td>\n",
       "      <td>4</td>\n",
       "      <td>32997</td>\n",
       "    </tr>\n",
       "  </tbody>\n",
       "</table>\n",
       "</div>"
      ],
      "text/plain": [
       "         Brand                          Model  AccelSec  TopSpeed_KmH  \\\n",
       "0       Tesla   Model 3 Long Range Dual Motor       4.6           233   \n",
       "1  Volkswagen                       ID.3 Pure      10.0           160   \n",
       "2    Polestar                               2       4.7           210   \n",
       "3         BMW                            iX3        6.8           180   \n",
       "4       Honda                              e        9.5           145   \n",
       "\n",
       "   Range_Km  Efficiency_WhKm FastCharge_KmH RapidCharge_x PowerTrain_x  \\\n",
       "0       450              161            940           Yes          AWD   \n",
       "1       270              167            250           Yes          RWD   \n",
       "2       400              181            620           Yes          AWD   \n",
       "3       360              206            560           Yes          RWD   \n",
       "4       170              168            190           Yes          RWD   \n",
       "\n",
       "   PlugType_x BodyStyle_x Segment_x  Seats_x  PriceEuro_x  \n",
       "0  Type 2 CCS       Sedan         D        5        55480  \n",
       "1  Type 2 CCS   Hatchback         C        5        30000  \n",
       "2  Type 2 CCS    Liftback         D        5        56440  \n",
       "3  Type 2 CCS         SUV         D        5        68040  \n",
       "4  Type 2 CCS   Hatchback         B        4        32997  "
      ]
     },
     "execution_count": 9,
     "metadata": {},
     "output_type": "execute_result"
    }
   ],
   "source": [
    "df_combined_1_2.head()"
   ]
  },
  {
   "cell_type": "code",
   "execution_count": 10,
   "metadata": {
    "metadata": {}
   },
   "outputs": [],
   "source": [
    "# Cargar los datasets\n",
    "df3 = pd.read_csv(r'Data/taxi+_zone_lookup.csv')\n",
    "table = DBF(r'Data/taxi_zones.dbf')\n",
    "df4 = pd.DataFrame(iter(table))\n",
    "\n",
    "# Unir usando 'LocationID'\n",
    "df_combined_3_4 = pd.merge(df3, df4, left_on=['LocationID', 'Borough'], right_on=['LocationID', 'borough'])"
   ]
  },
  {
   "cell_type": "code",
   "execution_count": 11,
   "metadata": {
    "metadata": {}
   },
   "outputs": [
    {
     "name": "stdout",
     "output_type": "stream",
     "text": [
      "<class 'pandas.core.frame.DataFrame'>\n",
      "RangeIndex: 265 entries, 0 to 264\n",
      "Data columns (total 4 columns):\n",
      " #   Column        Non-Null Count  Dtype \n",
      "---  ------        --------------  ----- \n",
      " 0   LocationID    265 non-null    int64 \n",
      " 1   Borough       265 non-null    object\n",
      " 2   Zone          264 non-null    object\n",
      " 3   service_zone  263 non-null    object\n",
      "dtypes: int64(1), object(3)\n",
      "memory usage: 8.4+ KB\n"
     ]
    }
   ],
   "source": [
    "df3.info()"
   ]
  },
  {
   "cell_type": "code",
   "execution_count": 12,
   "metadata": {
    "metadata": {}
   },
   "outputs": [
    {
     "name": "stdout",
     "output_type": "stream",
     "text": [
      "<class 'pandas.core.frame.DataFrame'>\n",
      "RangeIndex: 263 entries, 0 to 262\n",
      "Data columns (total 6 columns):\n",
      " #   Column      Non-Null Count  Dtype  \n",
      "---  ------      --------------  -----  \n",
      " 0   OBJECTID    263 non-null    int64  \n",
      " 1   Shape_Leng  263 non-null    float64\n",
      " 2   Shape_Area  263 non-null    float64\n",
      " 3   zone        263 non-null    object \n",
      " 4   LocationID  263 non-null    int64  \n",
      " 5   borough     263 non-null    object \n",
      "dtypes: float64(2), int64(2), object(2)\n",
      "memory usage: 12.5+ KB\n"
     ]
    }
   ],
   "source": [
    "df4.info()"
   ]
  },
  {
   "cell_type": "code",
   "execution_count": 13,
   "metadata": {
    "metadata": {}
   },
   "outputs": [
    {
     "name": "stdout",
     "output_type": "stream",
     "text": [
      "<class 'pandas.core.frame.DataFrame'>\n",
      "RangeIndex: 263 entries, 0 to 262\n",
      "Data columns (total 9 columns):\n",
      " #   Column        Non-Null Count  Dtype  \n",
      "---  ------        --------------  -----  \n",
      " 0   LocationID    263 non-null    int64  \n",
      " 1   Borough       263 non-null    object \n",
      " 2   Zone          263 non-null    object \n",
      " 3   service_zone  263 non-null    object \n",
      " 4   OBJECTID      263 non-null    int64  \n",
      " 5   Shape_Leng    263 non-null    float64\n",
      " 6   Shape_Area    263 non-null    float64\n",
      " 7   zone          263 non-null    object \n",
      " 8   borough       263 non-null    object \n",
      "dtypes: float64(2), int64(2), object(5)\n",
      "memory usage: 18.6+ KB\n"
     ]
    }
   ],
   "source": [
    "df_combined_3_4.info()"
   ]
  },
  {
   "cell_type": "code",
   "execution_count": 14,
   "metadata": {
    "metadata": {}
   },
   "outputs": [
    {
     "data": {
      "text/plain": [
       "Index(['LocationID', 'Borough', 'Zone', 'service_zone', 'OBJECTID',\n",
       "       'Shape_Leng', 'Shape_Area', 'zone', 'borough'],\n",
       "      dtype='object')"
      ]
     },
     "execution_count": 14,
     "metadata": {},
     "output_type": "execute_result"
    }
   ],
   "source": [
    "df_combined_3_4.columns"
   ]
  },
  {
   "cell_type": "code",
   "execution_count": 15,
   "metadata": {
    "metadata": {}
   },
   "outputs": [],
   "source": [
    "df_combined_3_4.drop(columns=['OBJECTID', 'zone', 'borough'], inplace=True)"
   ]
  },
  {
   "cell_type": "code",
   "execution_count": 16,
   "metadata": {
    "metadata": {}
   },
   "outputs": [
    {
     "data": {
      "text/html": [
       "<div>\n",
       "<style scoped>\n",
       "    .dataframe tbody tr th:only-of-type {\n",
       "        vertical-align: middle;\n",
       "    }\n",
       "\n",
       "    .dataframe tbody tr th {\n",
       "        vertical-align: top;\n",
       "    }\n",
       "\n",
       "    .dataframe thead th {\n",
       "        text-align: right;\n",
       "    }\n",
       "</style>\n",
       "<table border=\"1\" class=\"dataframe\">\n",
       "  <thead>\n",
       "    <tr style=\"text-align: right;\">\n",
       "      <th></th>\n",
       "      <th>LocationID</th>\n",
       "      <th>Borough</th>\n",
       "      <th>Zone</th>\n",
       "      <th>service_zone</th>\n",
       "      <th>Shape_Leng</th>\n",
       "      <th>Shape_Area</th>\n",
       "    </tr>\n",
       "  </thead>\n",
       "  <tbody>\n",
       "    <tr>\n",
       "      <th>0</th>\n",
       "      <td>1</td>\n",
       "      <td>EWR</td>\n",
       "      <td>Newark Airport</td>\n",
       "      <td>EWR</td>\n",
       "      <td>0.116357</td>\n",
       "      <td>0.000782</td>\n",
       "    </tr>\n",
       "    <tr>\n",
       "      <th>1</th>\n",
       "      <td>2</td>\n",
       "      <td>Queens</td>\n",
       "      <td>Jamaica Bay</td>\n",
       "      <td>Boro Zone</td>\n",
       "      <td>0.433470</td>\n",
       "      <td>0.004866</td>\n",
       "    </tr>\n",
       "    <tr>\n",
       "      <th>2</th>\n",
       "      <td>3</td>\n",
       "      <td>Bronx</td>\n",
       "      <td>Allerton/Pelham Gardens</td>\n",
       "      <td>Boro Zone</td>\n",
       "      <td>0.084341</td>\n",
       "      <td>0.000314</td>\n",
       "    </tr>\n",
       "    <tr>\n",
       "      <th>3</th>\n",
       "      <td>4</td>\n",
       "      <td>Manhattan</td>\n",
       "      <td>Alphabet City</td>\n",
       "      <td>Yellow Zone</td>\n",
       "      <td>0.043567</td>\n",
       "      <td>0.000112</td>\n",
       "    </tr>\n",
       "    <tr>\n",
       "      <th>4</th>\n",
       "      <td>5</td>\n",
       "      <td>Staten Island</td>\n",
       "      <td>Arden Heights</td>\n",
       "      <td>Boro Zone</td>\n",
       "      <td>0.092146</td>\n",
       "      <td>0.000498</td>\n",
       "    </tr>\n",
       "  </tbody>\n",
       "</table>\n",
       "</div>"
      ],
      "text/plain": [
       "   LocationID        Borough                     Zone service_zone  \\\n",
       "0           1            EWR           Newark Airport          EWR   \n",
       "1           2         Queens              Jamaica Bay    Boro Zone   \n",
       "2           3          Bronx  Allerton/Pelham Gardens    Boro Zone   \n",
       "3           4      Manhattan            Alphabet City  Yellow Zone   \n",
       "4           5  Staten Island            Arden Heights    Boro Zone   \n",
       "\n",
       "   Shape_Leng  Shape_Area  \n",
       "0    0.116357    0.000782  \n",
       "1    0.433470    0.004866  \n",
       "2    0.084341    0.000314  \n",
       "3    0.043567    0.000112  \n",
       "4    0.092146    0.000498  "
      ]
     },
     "execution_count": 16,
     "metadata": {},
     "output_type": "execute_result"
    }
   ],
   "source": [
    "df_combined_3_4.head()"
   ]
  },
  {
   "cell_type": "code",
   "execution_count": 17,
   "metadata": {
    "metadata": {}
   },
   "outputs": [
    {
     "name": "stderr",
     "output_type": "stream",
     "text": [
      "C:\\Users\\augus\\AppData\\Local\\Temp\\ipykernel_8500\\1404374060.py:3: DtypeWarning: Columns (73,75) have mixed types. Specify dtype option on import or set low_memory=False.\n",
      "  df6 = pd.read_csv(r'Data/Vehicle Fuel Economy Data.csv')\n"
     ]
    }
   ],
   "source": [
    "# Cargar los datasets\n",
    "df5 = pd.read_csv(r'Data/Light Duty Vehicles.csv')\n",
    "df6 = pd.read_csv(r'Data/Vehicle Fuel Economy Data.csv')\n",
    "df7 = pd.read_csv(r'Data/Alternative Fuel Vehicles US.csv')"
   ]
  },
  {
   "cell_type": "code",
   "execution_count": 18,
   "metadata": {
    "metadata": {}
   },
   "outputs": [
    {
     "name": "stdout",
     "output_type": "stream",
     "text": [
      "<class 'pandas.core.frame.DataFrame'>\n",
      "RangeIndex: 3008 entries, 0 to 3007\n",
      "Data columns (total 29 columns):\n",
      " #   Column                              Non-Null Count  Dtype  \n",
      "---  ------                              --------------  -----  \n",
      " 0   Vehicle ID                          3008 non-null   int64  \n",
      " 1   Fuel ID                             3008 non-null   int64  \n",
      " 2   Fuel Configuration ID               2973 non-null   float64\n",
      " 3   Manufacturer ID                     3008 non-null   int64  \n",
      " 4   Category ID                         3008 non-null   int64  \n",
      " 5   Model                               3008 non-null   object \n",
      " 6   Model Year                          3008 non-null   int64  \n",
      " 7   Alternative Fuel Economy City       1595 non-null   float64\n",
      " 8   Alternative Fuel Economy Highway    1505 non-null   float64\n",
      " 9   Alternative Fuel Economy Combined   467 non-null    float64\n",
      " 10  Conventional Fuel Economy City      2044 non-null   float64\n",
      " 11  Conventional Fuel Economy Highway   2046 non-null   float64\n",
      " 12  Conventional Fuel Economy Combined  763 non-null    float64\n",
      " 13  Transmission Type                   2922 non-null   object \n",
      " 14  Engine Type                         2211 non-null   object \n",
      " 15  Engine Size                         2874 non-null   object \n",
      " 16  Engine Cylinder Count               2443 non-null   float64\n",
      " 17  Engine Description                  1971 non-null   object \n",
      " 18  Manufacturer                        3008 non-null   object \n",
      " 19  Manufacturer URL                    2844 non-null   object \n",
      " 20  Category                            3008 non-null   object \n",
      " 21  Fuel Code                           3008 non-null   object \n",
      " 22  Fuel                                3008 non-null   object \n",
      " 23  Fuel Configuration Name             2973 non-null   object \n",
      " 24  Electric-Only Range                 374 non-null    float64\n",
      " 25  PHEV Total Range                    43 non-null     float64\n",
      " 26  PHEV Type                           176 non-null    object \n",
      " 27  Notes                               73 non-null     object \n",
      " 28  Drivetrain                          329 non-null    object \n",
      "dtypes: float64(10), int64(5), object(14)\n",
      "memory usage: 681.6+ KB\n"
     ]
    }
   ],
   "source": [
    "df5.info()"
   ]
  },
  {
   "cell_type": "code",
   "execution_count": 19,
   "metadata": {
    "metadata": {}
   },
   "outputs": [
    {
     "data": {
      "text/plain": [
       "Index(['Vehicle ID', 'Fuel ID', 'Fuel Configuration ID', 'Manufacturer ID',\n",
       "       'Category ID', 'Model', 'Model Year', 'Alternative Fuel Economy City',\n",
       "       'Alternative Fuel Economy Highway', 'Alternative Fuel Economy Combined',\n",
       "       'Conventional Fuel Economy City', 'Conventional Fuel Economy Highway',\n",
       "       'Conventional Fuel Economy Combined', 'Transmission Type',\n",
       "       'Engine Type', 'Engine Size', 'Engine Cylinder Count',\n",
       "       'Engine Description', 'Manufacturer', 'Manufacturer URL', 'Category',\n",
       "       'Fuel Code', 'Fuel', 'Fuel Configuration Name', 'Electric-Only Range',\n",
       "       'PHEV Total Range', 'PHEV Type', 'Notes', 'Drivetrain'],\n",
       "      dtype='object')"
      ]
     },
     "execution_count": 19,
     "metadata": {},
     "output_type": "execute_result"
    }
   ],
   "source": [
    "df5.columns"
   ]
  },
  {
   "cell_type": "code",
   "execution_count": 20,
   "metadata": {
    "metadata": {}
   },
   "outputs": [],
   "source": [
    "df5.drop(columns=['Vehicle ID', 'Fuel ID', 'Fuel Configuration ID', 'Manufacturer ID',\n",
    "       'Category ID', 'Transmission Type', 'Engine Type', 'Engine Size', 'Engine Cylinder Count', \n",
    "       'Engine Description', 'Manufacturer URL', 'Fuel Code', 'Fuel Configuration Name', 'Electric-Only Range',\n",
    "       'PHEV Total Range', 'PHEV Type', 'Notes', 'Drivetrain', 'Category'], inplace=True)"
   ]
  },
  {
   "cell_type": "code",
   "execution_count": 21,
   "metadata": {
    "metadata": {}
   },
   "outputs": [
    {
     "data": {
      "text/html": [
       "<div>\n",
       "<style scoped>\n",
       "    .dataframe tbody tr th:only-of-type {\n",
       "        vertical-align: middle;\n",
       "    }\n",
       "\n",
       "    .dataframe tbody tr th {\n",
       "        vertical-align: top;\n",
       "    }\n",
       "\n",
       "    .dataframe thead th {\n",
       "        text-align: right;\n",
       "    }\n",
       "</style>\n",
       "<table border=\"1\" class=\"dataframe\">\n",
       "  <thead>\n",
       "    <tr style=\"text-align: right;\">\n",
       "      <th></th>\n",
       "      <th>Model</th>\n",
       "      <th>Model Year</th>\n",
       "      <th>Alternative Fuel Economy City</th>\n",
       "      <th>Alternative Fuel Economy Highway</th>\n",
       "      <th>Alternative Fuel Economy Combined</th>\n",
       "      <th>Conventional Fuel Economy City</th>\n",
       "      <th>Conventional Fuel Economy Highway</th>\n",
       "      <th>Conventional Fuel Economy Combined</th>\n",
       "      <th>Manufacturer</th>\n",
       "      <th>Fuel</th>\n",
       "    </tr>\n",
       "  </thead>\n",
       "  <tbody>\n",
       "    <tr>\n",
       "      <th>0</th>\n",
       "      <td>NSX</td>\n",
       "      <td>2022</td>\n",
       "      <td>NaN</td>\n",
       "      <td>NaN</td>\n",
       "      <td>NaN</td>\n",
       "      <td>21.0</td>\n",
       "      <td>22.0</td>\n",
       "      <td>21.0</td>\n",
       "      <td>Acura</td>\n",
       "      <td>Hybrid Electric</td>\n",
       "    </tr>\n",
       "    <tr>\n",
       "      <th>1</th>\n",
       "      <td>A3</td>\n",
       "      <td>2022</td>\n",
       "      <td>NaN</td>\n",
       "      <td>NaN</td>\n",
       "      <td>NaN</td>\n",
       "      <td>29.0</td>\n",
       "      <td>38.0</td>\n",
       "      <td>32.0</td>\n",
       "      <td>Audi</td>\n",
       "      <td>Hybrid Electric</td>\n",
       "    </tr>\n",
       "    <tr>\n",
       "      <th>2</th>\n",
       "      <td>A3 quattro</td>\n",
       "      <td>2022</td>\n",
       "      <td>NaN</td>\n",
       "      <td>NaN</td>\n",
       "      <td>NaN</td>\n",
       "      <td>28.0</td>\n",
       "      <td>36.0</td>\n",
       "      <td>31.0</td>\n",
       "      <td>Audi</td>\n",
       "      <td>Hybrid Electric</td>\n",
       "    </tr>\n",
       "    <tr>\n",
       "      <th>3</th>\n",
       "      <td>A4 allroad quattro</td>\n",
       "      <td>2022</td>\n",
       "      <td>NaN</td>\n",
       "      <td>NaN</td>\n",
       "      <td>NaN</td>\n",
       "      <td>24.0</td>\n",
       "      <td>30.0</td>\n",
       "      <td>26.0</td>\n",
       "      <td>Audi</td>\n",
       "      <td>Hybrid Electric</td>\n",
       "    </tr>\n",
       "    <tr>\n",
       "      <th>4</th>\n",
       "      <td>A4 quattro</td>\n",
       "      <td>2022</td>\n",
       "      <td>NaN</td>\n",
       "      <td>NaN</td>\n",
       "      <td>NaN</td>\n",
       "      <td>26.0</td>\n",
       "      <td>34.0</td>\n",
       "      <td>29.0</td>\n",
       "      <td>Audi</td>\n",
       "      <td>Hybrid Electric</td>\n",
       "    </tr>\n",
       "  </tbody>\n",
       "</table>\n",
       "</div>"
      ],
      "text/plain": [
       "                Model  Model Year  Alternative Fuel Economy City  \\\n",
       "0                 NSX        2022                            NaN   \n",
       "1                 A3         2022                            NaN   \n",
       "2          A3 quattro        2022                            NaN   \n",
       "3  A4 allroad quattro        2022                            NaN   \n",
       "4          A4 quattro        2022                            NaN   \n",
       "\n",
       "   Alternative Fuel Economy Highway  Alternative Fuel Economy Combined  \\\n",
       "0                               NaN                                NaN   \n",
       "1                               NaN                                NaN   \n",
       "2                               NaN                                NaN   \n",
       "3                               NaN                                NaN   \n",
       "4                               NaN                                NaN   \n",
       "\n",
       "   Conventional Fuel Economy City  Conventional Fuel Economy Highway  \\\n",
       "0                            21.0                               22.0   \n",
       "1                            29.0                               38.0   \n",
       "2                            28.0                               36.0   \n",
       "3                            24.0                               30.0   \n",
       "4                            26.0                               34.0   \n",
       "\n",
       "   Conventional Fuel Economy Combined Manufacturer             Fuel  \n",
       "0                                21.0        Acura  Hybrid Electric  \n",
       "1                                32.0         Audi  Hybrid Electric  \n",
       "2                                31.0         Audi  Hybrid Electric  \n",
       "3                                26.0         Audi  Hybrid Electric  \n",
       "4                                29.0         Audi  Hybrid Electric  "
      ]
     },
     "execution_count": 21,
     "metadata": {},
     "output_type": "execute_result"
    }
   ],
   "source": [
    "df5.head()"
   ]
  },
  {
   "cell_type": "code",
   "execution_count": 22,
   "metadata": {
    "metadata": {}
   },
   "outputs": [
    {
     "name": "stdout",
     "output_type": "stream",
     "text": [
      "<class 'pandas.core.frame.DataFrame'>\n",
      "RangeIndex: 46186 entries, 0 to 46185\n",
      "Data columns (total 82 columns):\n",
      " #   Column           Non-Null Count  Dtype  \n",
      "---  ------           --------------  -----  \n",
      " 0   Year             46186 non-null  int64  \n",
      " 1   Manufacturer     46186 non-null  object \n",
      " 2   Model            46176 non-null  object \n",
      " 3   barrels08        46169 non-null  float64\n",
      " 4   barrelsA08       46169 non-null  float64\n",
      " 5   charge240        46169 non-null  float64\n",
      " 6   city08           46169 non-null  float64\n",
      " 7   city08U          46169 non-null  float64\n",
      " 8   cityA08          46169 non-null  float64\n",
      " 9   cityA08U         46169 non-null  float64\n",
      " 10  cityCD           46169 non-null  float64\n",
      " 11  cityE            46169 non-null  float64\n",
      " 12  cityUF           46169 non-null  float64\n",
      " 13  co2              46169 non-null  float64\n",
      " 14  co2A             46169 non-null  float64\n",
      " 15  co2TailpipeAGpm  46169 non-null  float64\n",
      " 16  co2TailpipeGpm   46169 non-null  float64\n",
      " 17  comb08           46169 non-null  float64\n",
      " 18  comb08U          46169 non-null  float64\n",
      " 19  combA08          46169 non-null  float64\n",
      " 20  combA08U         46169 non-null  float64\n",
      " 21  combE            46169 non-null  float64\n",
      " 22  combinedCD       46169 non-null  float64\n",
      " 23  combinedUF       46169 non-null  float64\n",
      " 24  cylinders        45663 non-null  float64\n",
      " 25  displ            45665 non-null  float64\n",
      " 26  drive            44983 non-null  object \n",
      " 27  engId            46169 non-null  float64\n",
      " 28  eng_dscr         29092 non-null  object \n",
      " 29  feScore          44953 non-null  float64\n",
      " 30  fuelCost08       44953 non-null  float64\n",
      " 31  fuelCostA08      44953 non-null  float64\n",
      " 32  fuelType         44953 non-null  object \n",
      " 33  fuelType1        44953 non-null  object \n",
      " 34  ghgScore         44953 non-null  float64\n",
      " 35  ghgScoreA        44953 non-null  float64\n",
      " 36  highway08        44953 non-null  float64\n",
      " 37  highway08U       44953 non-null  float64\n",
      " 38  highwayA08       44953 non-null  float64\n",
      " 39  highwayA08U      44953 non-null  float64\n",
      " 40  VClass           44953 non-null  object \n",
      " 41  highwayCD        44192 non-null  float64\n",
      " 42  highwayE         44192 non-null  float64\n",
      " 43  highwayUF        44192 non-null  float64\n",
      " 44  hlv              44192 non-null  float64\n",
      " 45  hpv              44192 non-null  float64\n",
      " 46  id               44192 non-null  float64\n",
      " 47  lv2              44192 non-null  float64\n",
      " 48  lv4              44192 non-null  float64\n",
      " 49  mpgData          44179 non-null  object \n",
      " 50  phevBlended      44192 non-null  object \n",
      " 51  pv2              44192 non-null  float64\n",
      " 52  pv4              44192 non-null  float64\n",
      " 53  range            44192 non-null  float64\n",
      " 54  rangeCity        44192 non-null  float64\n",
      " 55  rangeCityA       44192 non-null  float64\n",
      " 56  rangeHwy         44192 non-null  float64\n",
      " 57  rangeHwyA        44192 non-null  float64\n",
      " 58  trany            44181 non-null  object \n",
      " 59  UCity            44192 non-null  float64\n",
      " 60  UCityA           44192 non-null  float64\n",
      " 61  UHighway         44192 non-null  float64\n",
      " 62  UHighwayA        44192 non-null  float64\n",
      " 63  youSaveSpend     44192 non-null  float64\n",
      " 64  guzzler          2635 non-null   object \n",
      " 65  trans_dscr       14391 non-null  object \n",
      " 66  tCharger         8531 non-null   object \n",
      " 67  sCharger         987 non-null    object \n",
      " 68  atvType          4386 non-null   object \n",
      " 69  fuelType2        1647 non-null   object \n",
      " 70  rangeA           1642 non-null   object \n",
      " 71  evMotor          1874 non-null   object \n",
      " 72  mfrCode          15200 non-null  object \n",
      " 73  c240Dscr         133 non-null    object \n",
      " 74  charge240b       44170 non-null  float64\n",
      " 75  c240bDscr        127 non-null    object \n",
      " 76  createdOn        44170 non-null  object \n",
      " 77  modifiedOn       44170 non-null  object \n",
      " 78  startStop        14357 non-null  object \n",
      " 79  phevCity         44170 non-null  float64\n",
      " 80  phevHwy          44170 non-null  float64\n",
      " 81  phevComb         44170 non-null  float64\n",
      "dtypes: float64(57), int64(1), object(24)\n",
      "memory usage: 28.9+ MB\n"
     ]
    }
   ],
   "source": [
    "df6.info()"
   ]
  },
  {
   "cell_type": "code",
   "execution_count": 23,
   "metadata": {
    "metadata": {}
   },
   "outputs": [
    {
     "data": {
      "text/plain": [
       "Index(['Year', 'Manufacturer', 'Model', 'barrels08', 'barrelsA08', 'charge240',\n",
       "       'city08', 'city08U', 'cityA08', 'cityA08U', 'cityCD', 'cityE', 'cityUF',\n",
       "       'co2', 'co2A', 'co2TailpipeAGpm', 'co2TailpipeGpm', 'comb08', 'comb08U',\n",
       "       'combA08', 'combA08U', 'combE', 'combinedCD', 'combinedUF', 'cylinders',\n",
       "       'displ', 'drive', 'engId', 'eng_dscr', 'feScore', 'fuelCost08',\n",
       "       'fuelCostA08', 'fuelType', 'fuelType1', 'ghgScore', 'ghgScoreA',\n",
       "       'highway08', 'highway08U', 'highwayA08', 'highwayA08U', 'VClass',\n",
       "       'highwayCD', 'highwayE', 'highwayUF', 'hlv', 'hpv', 'id', 'lv2', 'lv4',\n",
       "       'mpgData', 'phevBlended', 'pv2', 'pv4', 'range', 'rangeCity',\n",
       "       'rangeCityA', 'rangeHwy', 'rangeHwyA', 'trany', 'UCity', 'UCityA',\n",
       "       'UHighway', 'UHighwayA', 'youSaveSpend', 'guzzler', 'trans_dscr',\n",
       "       'tCharger', 'sCharger', 'atvType', 'fuelType2', 'rangeA', 'evMotor',\n",
       "       'mfrCode', 'c240Dscr', 'charge240b', 'c240bDscr', 'createdOn',\n",
       "       'modifiedOn', 'startStop', 'phevCity', 'phevHwy', 'phevComb'],\n",
       "      dtype='object')"
      ]
     },
     "execution_count": 23,
     "metadata": {},
     "output_type": "execute_result"
    }
   ],
   "source": [
    "df6.columns"
   ]
  },
  {
   "cell_type": "code",
   "execution_count": 24,
   "metadata": {
    "metadata": {}
   },
   "outputs": [],
   "source": [
    "df6.drop(columns=['range', 'rangeCity', 'rangeHwy', 'UCity', 'UHighway', 'co2A', 'co2TailpipeAGpm', 'barrels08', 'barrelsA08', 'charge240',\n",
    "       'city08', 'city08U', 'cityA08', 'cityA08U', 'cityCD', 'cityE', 'cityUF', 'comb08', 'comb08U',\n",
    "       'combA08', 'combA08U', 'combE', 'combinedCD', 'combinedUF', 'cylinders',\n",
    "       'displ', 'drive', 'engId', 'eng_dscr', 'feScore', 'fuelCostA08', 'fuelType', 'fuelType1', 'ghgScore', 'ghgScoreA',\n",
    "       'highway08', 'highway08U', 'highwayA08', 'highwayA08U', 'VClass',\n",
    "       'highwayCD', 'highwayE', 'highwayUF', 'hlv', 'hpv', 'id', 'lv2', 'lv4',\n",
    "       'mpgData', 'phevBlended', 'pv2', 'pv4', 'rangeCityA', 'rangeHwyA', 'trany', 'UCityA', 'UHighwayA', 'youSaveSpend', 'guzzler', 'trans_dscr',\n",
    "       'tCharger', 'sCharger', 'atvType', 'fuelType2', 'rangeA', 'evMotor',\n",
    "       'mfrCode', 'c240Dscr', 'charge240b', 'c240bDscr', 'createdOn',\n",
    "       'modifiedOn', 'startStop', 'phevCity', 'phevHwy', 'phevComb'], inplace=True)"
   ]
  },
  {
   "cell_type": "code",
   "execution_count": 25,
   "metadata": {
    "metadata": {}
   },
   "outputs": [
    {
     "data": {
      "text/html": [
       "<div>\n",
       "<style scoped>\n",
       "    .dataframe tbody tr th:only-of-type {\n",
       "        vertical-align: middle;\n",
       "    }\n",
       "\n",
       "    .dataframe tbody tr th {\n",
       "        vertical-align: top;\n",
       "    }\n",
       "\n",
       "    .dataframe thead th {\n",
       "        text-align: right;\n",
       "    }\n",
       "</style>\n",
       "<table border=\"1\" class=\"dataframe\">\n",
       "  <thead>\n",
       "    <tr style=\"text-align: right;\">\n",
       "      <th></th>\n",
       "      <th>Year</th>\n",
       "      <th>Manufacturer</th>\n",
       "      <th>Model</th>\n",
       "      <th>co2</th>\n",
       "      <th>co2TailpipeGpm</th>\n",
       "      <th>fuelCost08</th>\n",
       "    </tr>\n",
       "  </thead>\n",
       "  <tbody>\n",
       "    <tr>\n",
       "      <th>0</th>\n",
       "      <td>2017</td>\n",
       "      <td>BMW</td>\n",
       "      <td>M6 Coupe</td>\n",
       "      <td>519.0</td>\n",
       "      <td>519.0</td>\n",
       "      <td>3850.0</td>\n",
       "    </tr>\n",
       "    <tr>\n",
       "      <th>1</th>\n",
       "      <td>2017</td>\n",
       "      <td>BMW</td>\n",
       "      <td>X3 sDrive28i</td>\n",
       "      <td>374.0</td>\n",
       "      <td>374.0</td>\n",
       "      <td>2700.0</td>\n",
       "    </tr>\n",
       "    <tr>\n",
       "      <th>2</th>\n",
       "      <td>2016</td>\n",
       "      <td>Infiniti</td>\n",
       "      <td>Q50S Red Sport</td>\n",
       "      <td>402.0</td>\n",
       "      <td>402.0</td>\n",
       "      <td>2950.0</td>\n",
       "    </tr>\n",
       "    <tr>\n",
       "      <th>3</th>\n",
       "      <td>2017</td>\n",
       "      <td>MINI</td>\n",
       "      <td>John Cooper Works Convertible</td>\n",
       "      <td>327.0</td>\n",
       "      <td>327.0</td>\n",
       "      <td>2400.0</td>\n",
       "    </tr>\n",
       "    <tr>\n",
       "      <th>4</th>\n",
       "      <td>2017</td>\n",
       "      <td>Kia</td>\n",
       "      <td>Sedona SX</td>\n",
       "      <td>433.0</td>\n",
       "      <td>433.0</td>\n",
       "      <td>2550.0</td>\n",
       "    </tr>\n",
       "  </tbody>\n",
       "</table>\n",
       "</div>"
      ],
      "text/plain": [
       "   Year Manufacturer                          Model    co2  co2TailpipeGpm  \\\n",
       "0  2017          BMW                       M6 Coupe  519.0           519.0   \n",
       "1  2017          BMW                   X3 sDrive28i  374.0           374.0   \n",
       "2  2016     Infiniti                 Q50S Red Sport  402.0           402.0   \n",
       "3  2017         MINI  John Cooper Works Convertible  327.0           327.0   \n",
       "4  2017          Kia                      Sedona SX  433.0           433.0   \n",
       "\n",
       "   fuelCost08  \n",
       "0      3850.0  \n",
       "1      2700.0  \n",
       "2      2950.0  \n",
       "3      2400.0  \n",
       "4      2550.0  "
      ]
     },
     "execution_count": 25,
     "metadata": {},
     "output_type": "execute_result"
    }
   ],
   "source": [
    "df6.head()"
   ]
  },
  {
   "cell_type": "code",
   "execution_count": 26,
   "metadata": {
    "metadata": {}
   },
   "outputs": [
    {
     "name": "stdout",
     "output_type": "stream",
     "text": [
      "<class 'pandas.core.frame.DataFrame'>\n",
      "RangeIndex: 882 entries, 0 to 881\n",
      "Data columns (total 22 columns):\n",
      " #   Column                              Non-Null Count  Dtype  \n",
      "---  ------                              --------------  -----  \n",
      " 0   Category                            882 non-null    object \n",
      " 1   Model                               882 non-null    object \n",
      " 2   Model Year                          594 non-null    float64\n",
      " 3   Manufacturer                        882 non-null    object \n",
      " 4   Fuel                                882 non-null    object \n",
      " 5   All-Electric Range                  222 non-null    float64\n",
      " 6   PHEV Total Range                    43 non-null     float64\n",
      " 7   Alternative Fuel Economy City       169 non-null    float64\n",
      " 8   Alternative Fuel Economy Highway    169 non-null    float64\n",
      " 9   Alternative Fuel Economy Combined   262 non-null    float64\n",
      " 10  Conventional Fuel Economy City      444 non-null    float64\n",
      " 11  Conventional Fuel Economy Highway   444 non-null    float64\n",
      " 12  Conventional Fuel Economy Combined  444 non-null    float64\n",
      " 13  Transmission Type                   640 non-null    object \n",
      " 14  Transmission Make                   125 non-null    object \n",
      " 15  Engine Type                         589 non-null    object \n",
      " 16  Engine Size                         589 non-null    object \n",
      " 17  Engine Cylinder Count               449 non-null    float64\n",
      " 18  Number of Passengers                121 non-null    object \n",
      " 19  Heavy-Duty Power System             245 non-null    object \n",
      " 20  Notes                               179 non-null    object \n",
      " 21  Drivetrain                          329 non-null    object \n",
      "dtypes: float64(10), object(12)\n",
      "memory usage: 151.7+ KB\n"
     ]
    }
   ],
   "source": [
    "df7.info()"
   ]
  },
  {
   "cell_type": "code",
   "execution_count": 27,
   "metadata": {
    "metadata": {}
   },
   "outputs": [
    {
     "data": {
      "text/plain": [
       "Index(['Category', 'Model', 'Model Year', 'Manufacturer', 'Fuel',\n",
       "       'All-Electric Range', 'PHEV Total Range',\n",
       "       'Alternative Fuel Economy City', 'Alternative Fuel Economy Highway',\n",
       "       'Alternative Fuel Economy Combined', 'Conventional Fuel Economy City',\n",
       "       'Conventional Fuel Economy Highway',\n",
       "       'Conventional Fuel Economy Combined', 'Transmission Type',\n",
       "       'Transmission Make', 'Engine Type', 'Engine Size',\n",
       "       'Engine Cylinder Count', 'Number of Passengers',\n",
       "       'Heavy-Duty Power System', 'Notes', 'Drivetrain'],\n",
       "      dtype='object')"
      ]
     },
     "execution_count": 27,
     "metadata": {},
     "output_type": "execute_result"
    }
   ],
   "source": [
    "df7.columns"
   ]
  },
  {
   "cell_type": "code",
   "execution_count": 28,
   "metadata": {
    "metadata": {}
   },
   "outputs": [],
   "source": [
    "df7.drop(columns=['Category', 'All-Electric Range', 'PHEV Total Range',\n",
    "       'Alternative Fuel Economy City', 'Alternative Fuel Economy Highway',\n",
    "       'Alternative Fuel Economy Combined', 'Conventional Fuel Economy City',\n",
    "       'Conventional Fuel Economy Highway',\n",
    "       'Conventional Fuel Economy Combined', 'Transmission Type',\n",
    "       'Transmission Make', 'Engine Type', 'Engine Size',\n",
    "       'Engine Cylinder Count', 'Heavy-Duty Power System', 'Notes', 'Drivetrain'], inplace=True)"
   ]
  },
  {
   "cell_type": "code",
   "execution_count": 29,
   "metadata": {
    "metadata": {}
   },
   "outputs": [
    {
     "data": {
      "text/html": [
       "<div>\n",
       "<style scoped>\n",
       "    .dataframe tbody tr th:only-of-type {\n",
       "        vertical-align: middle;\n",
       "    }\n",
       "\n",
       "    .dataframe tbody tr th {\n",
       "        vertical-align: top;\n",
       "    }\n",
       "\n",
       "    .dataframe thead th {\n",
       "        text-align: right;\n",
       "    }\n",
       "</style>\n",
       "<table border=\"1\" class=\"dataframe\">\n",
       "  <thead>\n",
       "    <tr style=\"text-align: right;\">\n",
       "      <th></th>\n",
       "      <th>Model</th>\n",
       "      <th>Model Year</th>\n",
       "      <th>Manufacturer</th>\n",
       "      <th>Fuel</th>\n",
       "      <th>Number of Passengers</th>\n",
       "    </tr>\n",
       "  </thead>\n",
       "  <tbody>\n",
       "    <tr>\n",
       "      <th>0</th>\n",
       "      <td>NSX</td>\n",
       "      <td>2022.0</td>\n",
       "      <td>Acura</td>\n",
       "      <td>Hybrid Electric</td>\n",
       "      <td>NaN</td>\n",
       "    </tr>\n",
       "    <tr>\n",
       "      <th>1</th>\n",
       "      <td>A3</td>\n",
       "      <td>2022.0</td>\n",
       "      <td>Audi</td>\n",
       "      <td>Hybrid Electric</td>\n",
       "      <td>NaN</td>\n",
       "    </tr>\n",
       "    <tr>\n",
       "      <th>2</th>\n",
       "      <td>A3 quattro</td>\n",
       "      <td>2022.0</td>\n",
       "      <td>Audi</td>\n",
       "      <td>Hybrid Electric</td>\n",
       "      <td>NaN</td>\n",
       "    </tr>\n",
       "    <tr>\n",
       "      <th>3</th>\n",
       "      <td>A4 allroad quattro</td>\n",
       "      <td>2022.0</td>\n",
       "      <td>Audi</td>\n",
       "      <td>Hybrid Electric</td>\n",
       "      <td>NaN</td>\n",
       "    </tr>\n",
       "    <tr>\n",
       "      <th>4</th>\n",
       "      <td>A4 quattro</td>\n",
       "      <td>2022.0</td>\n",
       "      <td>Audi</td>\n",
       "      <td>Hybrid Electric</td>\n",
       "      <td>NaN</td>\n",
       "    </tr>\n",
       "  </tbody>\n",
       "</table>\n",
       "</div>"
      ],
      "text/plain": [
       "                Model  Model Year Manufacturer             Fuel  \\\n",
       "0                 NSX      2022.0        Acura  Hybrid Electric   \n",
       "1                 A3       2022.0         Audi  Hybrid Electric   \n",
       "2          A3 quattro      2022.0         Audi  Hybrid Electric   \n",
       "3  A4 allroad quattro      2022.0         Audi  Hybrid Electric   \n",
       "4          A4 quattro      2022.0         Audi  Hybrid Electric   \n",
       "\n",
       "  Number of Passengers  \n",
       "0                  NaN  \n",
       "1                  NaN  \n",
       "2                  NaN  \n",
       "3                  NaN  \n",
       "4                  NaN  "
      ]
     },
     "execution_count": 29,
     "metadata": {},
     "output_type": "execute_result"
    }
   ],
   "source": [
    "df7.head()"
   ]
  },
  {
   "cell_type": "code",
   "execution_count": 30,
   "metadata": {
    "metadata": {}
   },
   "outputs": [],
   "source": [
    "# Unir Dataset5 y Dataset6\n",
    "df_combined_5_6 = pd.merge(df5, df6, left_on=['Model', 'Manufacturer', 'Model Year'], right_on=['Model', 'Manufacturer', 'Year'])"
   ]
  },
  {
   "cell_type": "code",
   "execution_count": 31,
   "metadata": {
    "metadata": {}
   },
   "outputs": [
    {
     "name": "stdout",
     "output_type": "stream",
     "text": [
      "<class 'pandas.core.frame.DataFrame'>\n",
      "RangeIndex: 2132 entries, 0 to 2131\n",
      "Data columns (total 14 columns):\n",
      " #   Column                              Non-Null Count  Dtype  \n",
      "---  ------                              --------------  -----  \n",
      " 0   Model                               2132 non-null   object \n",
      " 1   Model Year                          2132 non-null   int64  \n",
      " 2   Alternative Fuel Economy City       1030 non-null   float64\n",
      " 3   Alternative Fuel Economy Highway    975 non-null    float64\n",
      " 4   Alternative Fuel Economy Combined   462 non-null    float64\n",
      " 5   Conventional Fuel Economy City      1804 non-null   float64\n",
      " 6   Conventional Fuel Economy Highway   1801 non-null   float64\n",
      " 7   Conventional Fuel Economy Combined  1035 non-null   float64\n",
      " 8   Manufacturer                        2132 non-null   object \n",
      " 9   Fuel                                2132 non-null   object \n",
      " 10  Year                                2132 non-null   int64  \n",
      " 11  co2                                 2132 non-null   float64\n",
      " 12  co2TailpipeGpm                      2132 non-null   float64\n",
      " 13  fuelCost08                          2132 non-null   float64\n",
      "dtypes: float64(9), int64(2), object(3)\n",
      "memory usage: 233.3+ KB\n"
     ]
    }
   ],
   "source": [
    "df_combined_5_6.info()"
   ]
  },
  {
   "cell_type": "code",
   "execution_count": 32,
   "metadata": {
    "metadata": {}
   },
   "outputs": [
    {
     "data": {
      "text/plain": [
       "Index(['Model', 'Model Year', 'Alternative Fuel Economy City',\n",
       "       'Alternative Fuel Economy Highway', 'Alternative Fuel Economy Combined',\n",
       "       'Conventional Fuel Economy City', 'Conventional Fuel Economy Highway',\n",
       "       'Conventional Fuel Economy Combined', 'Manufacturer', 'Fuel', 'Year',\n",
       "       'co2', 'co2TailpipeGpm', 'fuelCost08'],\n",
       "      dtype='object')"
      ]
     },
     "execution_count": 32,
     "metadata": {},
     "output_type": "execute_result"
    }
   ],
   "source": [
    "df_combined_5_6.columns"
   ]
  },
  {
   "cell_type": "code",
   "execution_count": 33,
   "metadata": {
    "metadata": {}
   },
   "outputs": [
    {
     "data": {
      "text/html": [
       "<div>\n",
       "<style scoped>\n",
       "    .dataframe tbody tr th:only-of-type {\n",
       "        vertical-align: middle;\n",
       "    }\n",
       "\n",
       "    .dataframe tbody tr th {\n",
       "        vertical-align: top;\n",
       "    }\n",
       "\n",
       "    .dataframe thead th {\n",
       "        text-align: right;\n",
       "    }\n",
       "</style>\n",
       "<table border=\"1\" class=\"dataframe\">\n",
       "  <thead>\n",
       "    <tr style=\"text-align: right;\">\n",
       "      <th></th>\n",
       "      <th>Model</th>\n",
       "      <th>Model Year</th>\n",
       "      <th>Alternative Fuel Economy City</th>\n",
       "      <th>Alternative Fuel Economy Highway</th>\n",
       "      <th>Alternative Fuel Economy Combined</th>\n",
       "      <th>Conventional Fuel Economy City</th>\n",
       "      <th>Conventional Fuel Economy Highway</th>\n",
       "      <th>Conventional Fuel Economy Combined</th>\n",
       "      <th>Manufacturer</th>\n",
       "      <th>Fuel</th>\n",
       "      <th>Year</th>\n",
       "      <th>co2</th>\n",
       "      <th>co2TailpipeGpm</th>\n",
       "      <th>fuelCost08</th>\n",
       "    </tr>\n",
       "  </thead>\n",
       "  <tbody>\n",
       "    <tr>\n",
       "      <th>0</th>\n",
       "      <td>A3 quattro</td>\n",
       "      <td>2022</td>\n",
       "      <td>NaN</td>\n",
       "      <td>NaN</td>\n",
       "      <td>NaN</td>\n",
       "      <td>28.0</td>\n",
       "      <td>36.0</td>\n",
       "      <td>31.0</td>\n",
       "      <td>Audi</td>\n",
       "      <td>Hybrid Electric</td>\n",
       "      <td>2022</td>\n",
       "      <td>286.0</td>\n",
       "      <td>286.0</td>\n",
       "      <td>1700.0</td>\n",
       "    </tr>\n",
       "    <tr>\n",
       "      <th>1</th>\n",
       "      <td>A4 allroad quattro</td>\n",
       "      <td>2022</td>\n",
       "      <td>NaN</td>\n",
       "      <td>NaN</td>\n",
       "      <td>NaN</td>\n",
       "      <td>24.0</td>\n",
       "      <td>30.0</td>\n",
       "      <td>26.0</td>\n",
       "      <td>Audi</td>\n",
       "      <td>Hybrid Electric</td>\n",
       "      <td>2022</td>\n",
       "      <td>335.0</td>\n",
       "      <td>335.0</td>\n",
       "      <td>2500.0</td>\n",
       "    </tr>\n",
       "    <tr>\n",
       "      <th>2</th>\n",
       "      <td>A4 quattro</td>\n",
       "      <td>2022</td>\n",
       "      <td>NaN</td>\n",
       "      <td>NaN</td>\n",
       "      <td>NaN</td>\n",
       "      <td>26.0</td>\n",
       "      <td>34.0</td>\n",
       "      <td>29.0</td>\n",
       "      <td>Audi</td>\n",
       "      <td>Hybrid Electric</td>\n",
       "      <td>2022</td>\n",
       "      <td>307.0</td>\n",
       "      <td>307.0</td>\n",
       "      <td>2250.0</td>\n",
       "    </tr>\n",
       "    <tr>\n",
       "      <th>3</th>\n",
       "      <td>A4 S line quattro</td>\n",
       "      <td>2022</td>\n",
       "      <td>NaN</td>\n",
       "      <td>NaN</td>\n",
       "      <td>NaN</td>\n",
       "      <td>24.0</td>\n",
       "      <td>31.0</td>\n",
       "      <td>27.0</td>\n",
       "      <td>Audi</td>\n",
       "      <td>Hybrid Electric</td>\n",
       "      <td>2022</td>\n",
       "      <td>332.0</td>\n",
       "      <td>332.0</td>\n",
       "      <td>2400.0</td>\n",
       "    </tr>\n",
       "    <tr>\n",
       "      <th>4</th>\n",
       "      <td>A5 Cabriolet quattro</td>\n",
       "      <td>2022</td>\n",
       "      <td>NaN</td>\n",
       "      <td>NaN</td>\n",
       "      <td>NaN</td>\n",
       "      <td>23.0</td>\n",
       "      <td>31.0</td>\n",
       "      <td>26.0</td>\n",
       "      <td>Audi</td>\n",
       "      <td>Hybrid Electric</td>\n",
       "      <td>2022</td>\n",
       "      <td>345.0</td>\n",
       "      <td>345.0</td>\n",
       "      <td>2500.0</td>\n",
       "    </tr>\n",
       "  </tbody>\n",
       "</table>\n",
       "</div>"
      ],
      "text/plain": [
       "                  Model  Model Year  Alternative Fuel Economy City  \\\n",
       "0            A3 quattro        2022                            NaN   \n",
       "1    A4 allroad quattro        2022                            NaN   \n",
       "2            A4 quattro        2022                            NaN   \n",
       "3     A4 S line quattro        2022                            NaN   \n",
       "4  A5 Cabriolet quattro        2022                            NaN   \n",
       "\n",
       "   Alternative Fuel Economy Highway  Alternative Fuel Economy Combined  \\\n",
       "0                               NaN                                NaN   \n",
       "1                               NaN                                NaN   \n",
       "2                               NaN                                NaN   \n",
       "3                               NaN                                NaN   \n",
       "4                               NaN                                NaN   \n",
       "\n",
       "   Conventional Fuel Economy City  Conventional Fuel Economy Highway  \\\n",
       "0                            28.0                               36.0   \n",
       "1                            24.0                               30.0   \n",
       "2                            26.0                               34.0   \n",
       "3                            24.0                               31.0   \n",
       "4                            23.0                               31.0   \n",
       "\n",
       "   Conventional Fuel Economy Combined Manufacturer             Fuel  Year  \\\n",
       "0                                31.0         Audi  Hybrid Electric  2022   \n",
       "1                                26.0         Audi  Hybrid Electric  2022   \n",
       "2                                29.0         Audi  Hybrid Electric  2022   \n",
       "3                                27.0         Audi  Hybrid Electric  2022   \n",
       "4                                26.0         Audi  Hybrid Electric  2022   \n",
       "\n",
       "     co2  co2TailpipeGpm  fuelCost08  \n",
       "0  286.0           286.0      1700.0  \n",
       "1  335.0           335.0      2500.0  \n",
       "2  307.0           307.0      2250.0  \n",
       "3  332.0           332.0      2400.0  \n",
       "4  345.0           345.0      2500.0  "
      ]
     },
     "execution_count": 33,
     "metadata": {},
     "output_type": "execute_result"
    }
   ],
   "source": [
    "df_combined_5_6.head()"
   ]
  },
  {
   "cell_type": "code",
   "execution_count": 34,
   "metadata": {
    "metadata": {}
   },
   "outputs": [],
   "source": [
    "# Unir el resultado con Dataset7\n",
    "df_combined_5_6_7 = pd.merge(df_combined_5_6, df7, on=['Model', 'Manufacturer', 'Model Year', 'Fuel'])"
   ]
  },
  {
   "cell_type": "code",
   "execution_count": 35,
   "metadata": {
    "metadata": {}
   },
   "outputs": [
    {
     "name": "stdout",
     "output_type": "stream",
     "text": [
      "<class 'pandas.core.frame.DataFrame'>\n",
      "RangeIndex: 715 entries, 0 to 714\n",
      "Data columns (total 15 columns):\n",
      " #   Column                              Non-Null Count  Dtype  \n",
      "---  ------                              --------------  -----  \n",
      " 0   Model                               715 non-null    object \n",
      " 1   Model Year                          715 non-null    int64  \n",
      " 2   Alternative Fuel Economy City       161 non-null    float64\n",
      " 3   Alternative Fuel Economy Highway    161 non-null    float64\n",
      " 4   Alternative Fuel Economy Combined   227 non-null    float64\n",
      " 5   Conventional Fuel Economy City      646 non-null    float64\n",
      " 6   Conventional Fuel Economy Highway   646 non-null    float64\n",
      " 7   Conventional Fuel Economy Combined  646 non-null    float64\n",
      " 8   Manufacturer                        715 non-null    object \n",
      " 9   Fuel                                715 non-null    object \n",
      " 10  Year                                715 non-null    int64  \n",
      " 11  co2                                 715 non-null    float64\n",
      " 12  co2TailpipeGpm                      715 non-null    float64\n",
      " 13  fuelCost08                          715 non-null    float64\n",
      " 14  Number of Passengers                0 non-null      object \n",
      "dtypes: float64(9), int64(2), object(4)\n",
      "memory usage: 83.9+ KB\n"
     ]
    }
   ],
   "source": [
    "df_combined_5_6_7.info()"
   ]
  },
  {
   "cell_type": "code",
   "execution_count": 36,
   "metadata": {
    "metadata": {}
   },
   "outputs": [
    {
     "data": {
      "text/plain": [
       "Index(['Model', 'Model Year', 'Alternative Fuel Economy City',\n",
       "       'Alternative Fuel Economy Highway', 'Alternative Fuel Economy Combined',\n",
       "       'Conventional Fuel Economy City', 'Conventional Fuel Economy Highway',\n",
       "       'Conventional Fuel Economy Combined', 'Manufacturer', 'Fuel', 'Year',\n",
       "       'co2', 'co2TailpipeGpm', 'fuelCost08', 'Number of Passengers'],\n",
       "      dtype='object')"
      ]
     },
     "execution_count": 36,
     "metadata": {},
     "output_type": "execute_result"
    }
   ],
   "source": [
    "df_combined_5_6_7.columns"
   ]
  },
  {
   "cell_type": "code",
   "execution_count": 37,
   "metadata": {
    "metadata": {}
   },
   "outputs": [],
   "source": [
    "df_combined_5_6_7.drop(columns='Year', inplace=True)"
   ]
  },
  {
   "cell_type": "code",
   "execution_count": 38,
   "metadata": {
    "metadata": {}
   },
   "outputs": [
    {
     "data": {
      "text/html": [
       "<div>\n",
       "<style scoped>\n",
       "    .dataframe tbody tr th:only-of-type {\n",
       "        vertical-align: middle;\n",
       "    }\n",
       "\n",
       "    .dataframe tbody tr th {\n",
       "        vertical-align: top;\n",
       "    }\n",
       "\n",
       "    .dataframe thead th {\n",
       "        text-align: right;\n",
       "    }\n",
       "</style>\n",
       "<table border=\"1\" class=\"dataframe\">\n",
       "  <thead>\n",
       "    <tr style=\"text-align: right;\">\n",
       "      <th></th>\n",
       "      <th>Model</th>\n",
       "      <th>Model Year</th>\n",
       "      <th>Alternative Fuel Economy City</th>\n",
       "      <th>Alternative Fuel Economy Highway</th>\n",
       "      <th>Alternative Fuel Economy Combined</th>\n",
       "      <th>Conventional Fuel Economy City</th>\n",
       "      <th>Conventional Fuel Economy Highway</th>\n",
       "      <th>Conventional Fuel Economy Combined</th>\n",
       "      <th>Manufacturer</th>\n",
       "      <th>Fuel</th>\n",
       "      <th>co2</th>\n",
       "      <th>co2TailpipeGpm</th>\n",
       "      <th>fuelCost08</th>\n",
       "      <th>Number of Passengers</th>\n",
       "    </tr>\n",
       "  </thead>\n",
       "  <tbody>\n",
       "    <tr>\n",
       "      <th>0</th>\n",
       "      <td>A3 quattro</td>\n",
       "      <td>2022</td>\n",
       "      <td>NaN</td>\n",
       "      <td>NaN</td>\n",
       "      <td>NaN</td>\n",
       "      <td>28.0</td>\n",
       "      <td>36.0</td>\n",
       "      <td>31.0</td>\n",
       "      <td>Audi</td>\n",
       "      <td>Hybrid Electric</td>\n",
       "      <td>286.0</td>\n",
       "      <td>286.0</td>\n",
       "      <td>1700.0</td>\n",
       "      <td>NaN</td>\n",
       "    </tr>\n",
       "    <tr>\n",
       "      <th>1</th>\n",
       "      <td>A4 allroad quattro</td>\n",
       "      <td>2022</td>\n",
       "      <td>NaN</td>\n",
       "      <td>NaN</td>\n",
       "      <td>NaN</td>\n",
       "      <td>24.0</td>\n",
       "      <td>30.0</td>\n",
       "      <td>26.0</td>\n",
       "      <td>Audi</td>\n",
       "      <td>Hybrid Electric</td>\n",
       "      <td>335.0</td>\n",
       "      <td>335.0</td>\n",
       "      <td>2500.0</td>\n",
       "      <td>NaN</td>\n",
       "    </tr>\n",
       "    <tr>\n",
       "      <th>2</th>\n",
       "      <td>A4 quattro</td>\n",
       "      <td>2022</td>\n",
       "      <td>NaN</td>\n",
       "      <td>NaN</td>\n",
       "      <td>NaN</td>\n",
       "      <td>26.0</td>\n",
       "      <td>34.0</td>\n",
       "      <td>29.0</td>\n",
       "      <td>Audi</td>\n",
       "      <td>Hybrid Electric</td>\n",
       "      <td>307.0</td>\n",
       "      <td>307.0</td>\n",
       "      <td>2250.0</td>\n",
       "      <td>NaN</td>\n",
       "    </tr>\n",
       "    <tr>\n",
       "      <th>3</th>\n",
       "      <td>A4 S line quattro</td>\n",
       "      <td>2022</td>\n",
       "      <td>NaN</td>\n",
       "      <td>NaN</td>\n",
       "      <td>NaN</td>\n",
       "      <td>24.0</td>\n",
       "      <td>31.0</td>\n",
       "      <td>27.0</td>\n",
       "      <td>Audi</td>\n",
       "      <td>Hybrid Electric</td>\n",
       "      <td>332.0</td>\n",
       "      <td>332.0</td>\n",
       "      <td>2400.0</td>\n",
       "      <td>NaN</td>\n",
       "    </tr>\n",
       "    <tr>\n",
       "      <th>4</th>\n",
       "      <td>A5 Cabriolet quattro</td>\n",
       "      <td>2022</td>\n",
       "      <td>NaN</td>\n",
       "      <td>NaN</td>\n",
       "      <td>NaN</td>\n",
       "      <td>23.0</td>\n",
       "      <td>31.0</td>\n",
       "      <td>26.0</td>\n",
       "      <td>Audi</td>\n",
       "      <td>Hybrid Electric</td>\n",
       "      <td>345.0</td>\n",
       "      <td>345.0</td>\n",
       "      <td>2500.0</td>\n",
       "      <td>NaN</td>\n",
       "    </tr>\n",
       "  </tbody>\n",
       "</table>\n",
       "</div>"
      ],
      "text/plain": [
       "                  Model  Model Year  Alternative Fuel Economy City  \\\n",
       "0            A3 quattro        2022                            NaN   \n",
       "1    A4 allroad quattro        2022                            NaN   \n",
       "2            A4 quattro        2022                            NaN   \n",
       "3     A4 S line quattro        2022                            NaN   \n",
       "4  A5 Cabriolet quattro        2022                            NaN   \n",
       "\n",
       "   Alternative Fuel Economy Highway  Alternative Fuel Economy Combined  \\\n",
       "0                               NaN                                NaN   \n",
       "1                               NaN                                NaN   \n",
       "2                               NaN                                NaN   \n",
       "3                               NaN                                NaN   \n",
       "4                               NaN                                NaN   \n",
       "\n",
       "   Conventional Fuel Economy City  Conventional Fuel Economy Highway  \\\n",
       "0                            28.0                               36.0   \n",
       "1                            24.0                               30.0   \n",
       "2                            26.0                               34.0   \n",
       "3                            24.0                               31.0   \n",
       "4                            23.0                               31.0   \n",
       "\n",
       "   Conventional Fuel Economy Combined Manufacturer             Fuel    co2  \\\n",
       "0                                31.0         Audi  Hybrid Electric  286.0   \n",
       "1                                26.0         Audi  Hybrid Electric  335.0   \n",
       "2                                29.0         Audi  Hybrid Electric  307.0   \n",
       "3                                27.0         Audi  Hybrid Electric  332.0   \n",
       "4                                26.0         Audi  Hybrid Electric  345.0   \n",
       "\n",
       "   co2TailpipeGpm  fuelCost08 Number of Passengers  \n",
       "0           286.0      1700.0                  NaN  \n",
       "1           335.0      2500.0                  NaN  \n",
       "2           307.0      2250.0                  NaN  \n",
       "3           332.0      2400.0                  NaN  \n",
       "4           345.0      2500.0                  NaN  "
      ]
     },
     "execution_count": 38,
     "metadata": {},
     "output_type": "execute_result"
    }
   ],
   "source": [
    "df_combined_5_6_7.head()"
   ]
  },
  {
   "cell_type": "code",
   "execution_count": 39,
   "metadata": {
    "metadata": {}
   },
   "outputs": [],
   "source": [
    "df_combined_5_6_7.to_parquet(r'Data/modelos_economia_emision.parquet', index='False')"
   ]
  },
  {
   "cell_type": "code",
   "execution_count": 40,
   "metadata": {
    "metadata": {}
   },
   "outputs": [],
   "source": [
    "df_combined_1_2.to_parquet(r'Data/modelos_caracteristicas.parquet', index='False')"
   ]
  },
  {
   "cell_type": "code",
   "execution_count": 41,
   "metadata": {
    "metadata": {}
   },
   "outputs": [],
   "source": [
    "df_combined_3_4.to_parquet(r'Data/localizaciones.parquet', index='False')"
   ]
  }
 ],
 "metadata": {
  "kernelspec": {
   "display_name": "Python 3",
   "language": "python",
   "name": "python3"
  },
  "language_info": {
   "codemirror_mode": {
    "name": "ipython",
    "version": 3
   },
   "file_extension": ".py",
   "mimetype": "text/x-python",
   "name": "python",
   "nbconvert_exporter": "python",
   "pygments_lexer": "ipython3",
   "version": "3.10.0"
  }
 },
 "nbformat": 4,
 "nbformat_minor": 2
}
