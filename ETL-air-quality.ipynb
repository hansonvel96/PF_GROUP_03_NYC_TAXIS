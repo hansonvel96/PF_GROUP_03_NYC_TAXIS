{
 "cells": [
  {
   "cell_type": "code",
   "execution_count": 1,
   "metadata": {},
   "outputs": [],
   "source": [
    "import pandas as pd\n",
    "import numpy as np "
   ]
  },
  {
   "cell_type": "markdown",
   "metadata": {},
   "source": [
    "Cargo el archivo csv."
   ]
  },
  {
   "cell_type": "code",
   "execution_count": 2,
   "metadata": {},
   "outputs": [],
   "source": [
    "df_NYC_air_quality = pd.read_csv(r'Datasets\\sucios\\Air_Quality_raw.csv')"
   ]
  },
  {
   "cell_type": "code",
   "execution_count": 3,
   "metadata": {},
   "outputs": [
    {
     "data": {
      "text/html": [
       "<div>\n",
       "<style scoped>\n",
       "    .dataframe tbody tr th:only-of-type {\n",
       "        vertical-align: middle;\n",
       "    }\n",
       "\n",
       "    .dataframe tbody tr th {\n",
       "        vertical-align: top;\n",
       "    }\n",
       "\n",
       "    .dataframe thead th {\n",
       "        text-align: right;\n",
       "    }\n",
       "</style>\n",
       "<table border=\"1\" class=\"dataframe\">\n",
       "  <thead>\n",
       "    <tr style=\"text-align: right;\">\n",
       "      <th></th>\n",
       "      <th>Unique ID</th>\n",
       "      <th>Indicator ID</th>\n",
       "      <th>Name</th>\n",
       "      <th>Measure</th>\n",
       "      <th>Measure Info</th>\n",
       "      <th>Geo Type Name</th>\n",
       "      <th>Geo Join ID</th>\n",
       "      <th>Geo Place Name</th>\n",
       "      <th>Time Period</th>\n",
       "      <th>Start_Date</th>\n",
       "      <th>Data Value</th>\n",
       "      <th>Message</th>\n",
       "    </tr>\n",
       "  </thead>\n",
       "  <tbody>\n",
       "    <tr>\n",
       "      <th>0</th>\n",
       "      <td>179772</td>\n",
       "      <td>640</td>\n",
       "      <td>Boiler Emissions- Total SO2 Emissions</td>\n",
       "      <td>Number per km2</td>\n",
       "      <td>number</td>\n",
       "      <td>UHF42</td>\n",
       "      <td>409.0</td>\n",
       "      <td>Southeast Queens</td>\n",
       "      <td>2015</td>\n",
       "      <td>01/01/2015</td>\n",
       "      <td>0.3</td>\n",
       "      <td>NaN</td>\n",
       "    </tr>\n",
       "    <tr>\n",
       "      <th>1</th>\n",
       "      <td>179785</td>\n",
       "      <td>640</td>\n",
       "      <td>Boiler Emissions- Total SO2 Emissions</td>\n",
       "      <td>Number per km2</td>\n",
       "      <td>number</td>\n",
       "      <td>UHF42</td>\n",
       "      <td>209.0</td>\n",
       "      <td>Bensonhurst - Bay Ridge</td>\n",
       "      <td>2015</td>\n",
       "      <td>01/01/2015</td>\n",
       "      <td>1.2</td>\n",
       "      <td>NaN</td>\n",
       "    </tr>\n",
       "    <tr>\n",
       "      <th>2</th>\n",
       "      <td>178540</td>\n",
       "      <td>365</td>\n",
       "      <td>Fine particles (PM 2.5)</td>\n",
       "      <td>Mean</td>\n",
       "      <td>mcg/m3</td>\n",
       "      <td>UHF42</td>\n",
       "      <td>209.0</td>\n",
       "      <td>Bensonhurst - Bay Ridge</td>\n",
       "      <td>Annual Average 2012</td>\n",
       "      <td>12/01/2011</td>\n",
       "      <td>8.6</td>\n",
       "      <td>NaN</td>\n",
       "    </tr>\n",
       "    <tr>\n",
       "      <th>3</th>\n",
       "      <td>178561</td>\n",
       "      <td>365</td>\n",
       "      <td>Fine particles (PM 2.5)</td>\n",
       "      <td>Mean</td>\n",
       "      <td>mcg/m3</td>\n",
       "      <td>UHF42</td>\n",
       "      <td>409.0</td>\n",
       "      <td>Southeast Queens</td>\n",
       "      <td>Annual Average 2012</td>\n",
       "      <td>12/01/2011</td>\n",
       "      <td>8.0</td>\n",
       "      <td>NaN</td>\n",
       "    </tr>\n",
       "    <tr>\n",
       "      <th>4</th>\n",
       "      <td>823217</td>\n",
       "      <td>365</td>\n",
       "      <td>Fine particles (PM 2.5)</td>\n",
       "      <td>Mean</td>\n",
       "      <td>mcg/m3</td>\n",
       "      <td>UHF42</td>\n",
       "      <td>409.0</td>\n",
       "      <td>Southeast Queens</td>\n",
       "      <td>Summer 2022</td>\n",
       "      <td>06/01/2022</td>\n",
       "      <td>6.1</td>\n",
       "      <td>NaN</td>\n",
       "    </tr>\n",
       "    <tr>\n",
       "      <th>...</th>\n",
       "      <td>...</td>\n",
       "      <td>...</td>\n",
       "      <td>...</td>\n",
       "      <td>...</td>\n",
       "      <td>...</td>\n",
       "      <td>...</td>\n",
       "      <td>...</td>\n",
       "      <td>...</td>\n",
       "      <td>...</td>\n",
       "      <td>...</td>\n",
       "      <td>...</td>\n",
       "      <td>...</td>\n",
       "    </tr>\n",
       "    <tr>\n",
       "      <th>18020</th>\n",
       "      <td>816914</td>\n",
       "      <td>643</td>\n",
       "      <td>Annual vehicle miles traveled</td>\n",
       "      <td>Million miles</td>\n",
       "      <td>per square mile</td>\n",
       "      <td>CD</td>\n",
       "      <td>503.0</td>\n",
       "      <td>Tottenville and Great Kills (CD3)</td>\n",
       "      <td>2019</td>\n",
       "      <td>01/01/2019</td>\n",
       "      <td>12.9</td>\n",
       "      <td>NaN</td>\n",
       "    </tr>\n",
       "    <tr>\n",
       "      <th>18021</th>\n",
       "      <td>816913</td>\n",
       "      <td>643</td>\n",
       "      <td>Annual vehicle miles traveled</td>\n",
       "      <td>Million miles</td>\n",
       "      <td>per square mile</td>\n",
       "      <td>CD</td>\n",
       "      <td>503.0</td>\n",
       "      <td>Tottenville and Great Kills (CD3)</td>\n",
       "      <td>2010</td>\n",
       "      <td>01/01/2010</td>\n",
       "      <td>14.7</td>\n",
       "      <td>NaN</td>\n",
       "    </tr>\n",
       "    <tr>\n",
       "      <th>18022</th>\n",
       "      <td>816872</td>\n",
       "      <td>643</td>\n",
       "      <td>Annual vehicle miles traveled</td>\n",
       "      <td>Million miles</td>\n",
       "      <td>per square mile</td>\n",
       "      <td>UHF42</td>\n",
       "      <td>208.0</td>\n",
       "      <td>Canarsie - Flatlands</td>\n",
       "      <td>2010</td>\n",
       "      <td>01/01/2010</td>\n",
       "      <td>43.4</td>\n",
       "      <td>NaN</td>\n",
       "    </tr>\n",
       "    <tr>\n",
       "      <th>18023</th>\n",
       "      <td>816832</td>\n",
       "      <td>643</td>\n",
       "      <td>Annual vehicle miles traveled</td>\n",
       "      <td>Million miles</td>\n",
       "      <td>per square mile</td>\n",
       "      <td>UHF42</td>\n",
       "      <td>407.0</td>\n",
       "      <td>Southwest Queens</td>\n",
       "      <td>2010</td>\n",
       "      <td>01/01/2010</td>\n",
       "      <td>65.8</td>\n",
       "      <td>NaN</td>\n",
       "    </tr>\n",
       "    <tr>\n",
       "      <th>18024</th>\n",
       "      <td>151658</td>\n",
       "      <td>643</td>\n",
       "      <td>Annual vehicle miles traveled</td>\n",
       "      <td>Million miles</td>\n",
       "      <td>per square mile</td>\n",
       "      <td>UHF42</td>\n",
       "      <td>408.0</td>\n",
       "      <td>Jamaica</td>\n",
       "      <td>2005</td>\n",
       "      <td>01/01/2005</td>\n",
       "      <td>41.0</td>\n",
       "      <td>NaN</td>\n",
       "    </tr>\n",
       "  </tbody>\n",
       "</table>\n",
       "<p>18025 rows × 12 columns</p>\n",
       "</div>"
      ],
      "text/plain": [
       "       Unique ID  Indicator ID                                   Name  \\\n",
       "0         179772           640  Boiler Emissions- Total SO2 Emissions   \n",
       "1         179785           640  Boiler Emissions- Total SO2 Emissions   \n",
       "2         178540           365                Fine particles (PM 2.5)   \n",
       "3         178561           365                Fine particles (PM 2.5)   \n",
       "4         823217           365                Fine particles (PM 2.5)   \n",
       "...          ...           ...                                    ...   \n",
       "18020     816914           643          Annual vehicle miles traveled   \n",
       "18021     816913           643          Annual vehicle miles traveled   \n",
       "18022     816872           643          Annual vehicle miles traveled   \n",
       "18023     816832           643          Annual vehicle miles traveled   \n",
       "18024     151658           643          Annual vehicle miles traveled   \n",
       "\n",
       "              Measure     Measure Info Geo Type Name  Geo Join ID  \\\n",
       "0      Number per km2           number         UHF42        409.0   \n",
       "1      Number per km2           number         UHF42        209.0   \n",
       "2                Mean           mcg/m3         UHF42        209.0   \n",
       "3                Mean           mcg/m3         UHF42        409.0   \n",
       "4                Mean           mcg/m3         UHF42        409.0   \n",
       "...               ...              ...           ...          ...   \n",
       "18020   Million miles  per square mile            CD        503.0   \n",
       "18021   Million miles  per square mile            CD        503.0   \n",
       "18022   Million miles  per square mile         UHF42        208.0   \n",
       "18023   Million miles  per square mile         UHF42        407.0   \n",
       "18024   Million miles  per square mile         UHF42        408.0   \n",
       "\n",
       "                          Geo Place Name          Time Period  Start_Date  \\\n",
       "0                       Southeast Queens                 2015  01/01/2015   \n",
       "1                Bensonhurst - Bay Ridge                 2015  01/01/2015   \n",
       "2                Bensonhurst - Bay Ridge  Annual Average 2012  12/01/2011   \n",
       "3                       Southeast Queens  Annual Average 2012  12/01/2011   \n",
       "4                       Southeast Queens          Summer 2022  06/01/2022   \n",
       "...                                  ...                  ...         ...   \n",
       "18020  Tottenville and Great Kills (CD3)                 2019  01/01/2019   \n",
       "18021  Tottenville and Great Kills (CD3)                 2010  01/01/2010   \n",
       "18022               Canarsie - Flatlands                 2010  01/01/2010   \n",
       "18023                   Southwest Queens                 2010  01/01/2010   \n",
       "18024                            Jamaica                 2005  01/01/2005   \n",
       "\n",
       "       Data Value  Message  \n",
       "0             0.3      NaN  \n",
       "1             1.2      NaN  \n",
       "2             8.6      NaN  \n",
       "3             8.0      NaN  \n",
       "4             6.1      NaN  \n",
       "...           ...      ...  \n",
       "18020        12.9      NaN  \n",
       "18021        14.7      NaN  \n",
       "18022        43.4      NaN  \n",
       "18023        65.8      NaN  \n",
       "18024        41.0      NaN  \n",
       "\n",
       "[18025 rows x 12 columns]"
      ]
     },
     "execution_count": 3,
     "metadata": {},
     "output_type": "execute_result"
    }
   ],
   "source": [
    "df_NYC_air_quality"
   ]
  },
  {
   "cell_type": "markdown",
   "metadata": {},
   "source": [
    "Se procede a leer la informacion del DataFrames, con la finalidad de encontrar valores nulos y/o faltantes, además de saber con qué tipo de datos estamos tratando."
   ]
  },
  {
   "cell_type": "code",
   "execution_count": 4,
   "metadata": {},
   "outputs": [
    {
     "name": "stdout",
     "output_type": "stream",
     "text": [
      "La cantidad total de filas en el df_NYC_air_quality es: 18025\n",
      "<class 'pandas.core.frame.DataFrame'>\n",
      "RangeIndex: 18025 entries, 0 to 18024\n",
      "Data columns (total 12 columns):\n",
      " #   Column          Non-Null Count  Dtype  \n",
      "---  ------          --------------  -----  \n",
      " 0   Unique ID       18025 non-null  int64  \n",
      " 1   Indicator ID    18025 non-null  int64  \n",
      " 2   Name            18025 non-null  object \n",
      " 3   Measure         18025 non-null  object \n",
      " 4   Measure Info    18025 non-null  object \n",
      " 5   Geo Type Name   18025 non-null  object \n",
      " 6   Geo Join ID     18016 non-null  float64\n",
      " 7   Geo Place Name  18016 non-null  object \n",
      " 8   Time Period     18025 non-null  object \n",
      " 9   Start_Date      18025 non-null  object \n",
      " 10  Data Value      18025 non-null  float64\n",
      " 11  Message         0 non-null      float64\n",
      "dtypes: float64(3), int64(2), object(7)\n",
      "memory usage: 1.7+ MB\n",
      "None\n"
     ]
    }
   ],
   "source": [
    "total_filas = df_NYC_air_quality.shape[0]\n",
    "print(\"La cantidad total de filas en el df_NYC_air_quality es:\", total_filas)\n",
    "\n",
    "print(df_NYC_air_quality.info())"
   ]
  },
  {
   "cell_type": "markdown",
   "metadata": {},
   "source": [
    "Vemos el contenido dentro de la columna 'Geo Place Name' con la finalidad de poder crear un diccionario para poder normalizar los 'Borough'."
   ]
  },
  {
   "cell_type": "code",
   "execution_count": 5,
   "metadata": {},
   "outputs": [
    {
     "name": "stdout",
     "output_type": "stream",
     "text": [
      "Southeast Queens\n",
      "Bensonhurst - Bay Ridge\n",
      "Rockaways\n",
      "Coney Island - Sheepshead Bay\n",
      "Williamsburg - Bushwick\n",
      "Bayside - Little Neck\n",
      "Pelham - Throgs Neck\n",
      "Upper West Side\n",
      "East New York\n",
      "Canarsie - Flatlands\n",
      "Jamaica\n",
      "Gramercy Park - Murray Hill\n",
      "Hunts Point - Mott Haven\n",
      "Southwest Queens\n",
      "Greenwich Village - SoHo\n",
      "Brooklyn\n",
      "Downtown - Heights - Slope\n",
      "Washington Heights\n",
      "Northeast Bronx\n",
      "Greenpoint\n",
      "Long Island City - Astoria\n",
      "Port Richmond\n",
      "Kingsbridge - Riverdale\n",
      "Throgs Neck and Co-op City (CD10)\n",
      "Williamsbridge and Baychester (CD12)\n",
      "Jamaica and Hollis (CD12)\n",
      "South Ozone Park and Howard Beach (CD10)\n",
      "Kingsbridge Heights and Bedford (CD7)\n",
      "Sunset Park (CD7)\n",
      "Rockaway and Broad Channel (CD14)\n",
      "Upper West Side (CD7)\n",
      "Flushing and Whitestone (CD7)\n",
      "Bushwick (CD4)\n",
      "Bedford Stuyvesant (CD3)\n",
      "Jackson Heights (CD3)\n",
      "East Flatbush - Flatbush\n",
      "Elmhurst and Corona (CD4)\n",
      "Highbridge and Concourse (CD4)\n",
      "Lower East Side and Chinatown (CD3)\n",
      "Morrisania and Crotona (CD3)\n",
      "Upper East Side (CD8)\n",
      "Central Harlem (CD10)\n",
      "Washington Heights and Inwood (CD12)\n",
      "Union Square - Lower East Side\n",
      "Manhattan\n",
      "Bedford Stuyvesant - Crown Heights\n",
      "High Bridge - Morrisania\n",
      "Woodside and Sunnyside (CD2)\n",
      "Hunts Point and Longwood (CD2)\n",
      "Greenwich Village and Soho (CD2)\n",
      "Upper East Side\n",
      "Crotona -Tremont\n",
      "Flushing - Clearview\n",
      "East Harlem\n",
      "Fordham - Bronx Pk\n",
      "Chelsea - Clinton\n",
      "Central Harlem - Morningside Heights\n",
      "Fresh Meadows\n",
      "Bay Ridge and Dyker Heights (CD10)\n",
      "Fort Greene and Brooklyn Heights (CD2)\n",
      "Greenpoint and Williamsburg (CD1)\n",
      "Mott Haven and Melrose (CD1)\n",
      "Lower Manhattan\n",
      "West Queens\n",
      "Parkchester and Soundview (CD9)\n",
      "Kew Gardens and Woodhaven (CD9)\n",
      "Morris Park and Bronxdale (CD11)\n",
      "Bayside and Little Neck (CD11)\n",
      "Morningside Heights and Hamilton Heights (CD9)\n",
      "East Harlem (CD11)\n",
      "South Crown Heights and Lefferts Gardens (CD9)\n",
      "East New York and Starrett City (CD5)\n",
      "Midtown (CD5)\n",
      "Queens\n",
      "Queens Village (CD13)\n",
      "Park Slope and Carroll Gardens (CD6)\n",
      "Stuyvesant Town and Turtle Bay (CD6)\n",
      "Hillcrest and Fresh Meadows (CD8)\n",
      "Bronx\n",
      "Long Island City and Astoria (CD1)\n",
      "Fordham and University Heights (CD5)\n",
      "Riverdale and Fieldston (CD8)\n",
      "Clinton and Chelsea (CD4)\n",
      "Crown Heights and Prospect Heights (CD8)\n",
      "Rego Park and Forest Hills (CD6)\n",
      "Bensonhurst (CD11)\n",
      "Sunset Park\n",
      "Brownsville (CD16)\n",
      "St. George and Stapleton (CD1)\n",
      "Financial District (CD1)\n",
      "Borough Park\n",
      "Coney Island (CD13)\n",
      "Sheepshead Bay (CD15)\n",
      "Staten Island\n",
      "Ridgewood - Forest Hills\n",
      "Belmont and East Tremont (CD6)\n",
      "Flatbush and Midwood (CD14)\n",
      "Borough Park (CD12)\n",
      "East Flatbush (CD17)\n",
      "Ridgewood and Maspeth (CD5)\n",
      "Willowbrook\n",
      "Northern SI\n",
      "Stapleton - St. George\n",
      "Southern SI\n",
      "Flatlands and Canarsie (CD18)\n",
      "South Beach and Willowbrook (CD2)\n",
      "Bayside Little Neck-Fresh Meadows\n",
      "South Beach - Tottenville\n",
      "South Bronx\n",
      "Tottenville and Great Kills (CD3)\n",
      "nan\n",
      "Upper East Side-Gramercy\n",
      "Chelsea-Village\n",
      "Union Square-Lower Manhattan\n",
      "New York City\n"
     ]
    }
   ],
   "source": [
    "#Listo los elementos únicos de la columna 'Geo Place Name'\n",
    "lugares_unicos = df_NYC_air_quality['Geo Place Name'].unique()\n",
    "\n",
    "#Muestro los lugares únicos\n",
    "for lugar in lugares_unicos:\n",
    "    print(lugar)"
   ]
  },
  {
   "cell_type": "markdown",
   "metadata": {},
   "source": [
    "Exportamos todo el contenido de 'Geo Place Name' a un csv."
   ]
  },
  {
   "cell_type": "code",
   "execution_count": 6,
   "metadata": {},
   "outputs": [
    {
     "name": "stdout",
     "output_type": "stream",
     "text": [
      "El archivo 'lugares_unicos.csv' se ha creado exitosamente.\n"
     ]
    }
   ],
   "source": [
    "#Creo un DataFrame con los lugares únicos\n",
    "df_lugares_unicos = pd.DataFrame(lugares_unicos, columns=['Geo Place Name'])\n",
    "\n",
    "#Exporto el DataFrame de lugares únicos a un archivo CSV\n",
    "df_lugares_unicos.to_csv('lugares_unicos.csv', index=False)\n",
    "\n",
    "print(\"El archivo 'lugares_unicos.csv' se ha creado exitosamente.\")"
   ]
  },
  {
   "cell_type": "markdown",
   "metadata": {},
   "source": [
    "Creo un diccionario con los lugares_unicos para poder asociarlos a cada 'Borough'."
   ]
  },
  {
   "cell_type": "code",
   "execution_count": 7,
   "metadata": {},
   "outputs": [
    {
     "name": "stdout",
     "output_type": "stream",
     "text": [
      "   Unique ID  Indicator ID                                   Name  \\\n",
      "0     179772           640  Boiler Emissions- Total SO2 Emissions   \n",
      "1     179785           640  Boiler Emissions- Total SO2 Emissions   \n",
      "2     178540           365                Fine particles (PM 2.5)   \n",
      "3     178561           365                Fine particles (PM 2.5)   \n",
      "4     823217           365                Fine particles (PM 2.5)   \n",
      "\n",
      "          Measure Measure Info Geo Type Name  Geo Join ID  \\\n",
      "0  Number per km2       number         UHF42        409.0   \n",
      "1  Number per km2       number         UHF42        209.0   \n",
      "2            Mean       mcg/m3         UHF42        209.0   \n",
      "3            Mean       mcg/m3         UHF42        409.0   \n",
      "4            Mean       mcg/m3         UHF42        409.0   \n",
      "\n",
      "            Geo Place Name          Time Period  Start_Date  Data Value  \\\n",
      "0         Southeast Queens                 2015  01/01/2015         0.3   \n",
      "1  Bensonhurst - Bay Ridge                 2015  01/01/2015         1.2   \n",
      "2  Bensonhurst - Bay Ridge  Annual Average 2012  12/01/2011         8.6   \n",
      "3         Southeast Queens  Annual Average 2012  12/01/2011         8.0   \n",
      "4         Southeast Queens          Summer 2022  06/01/2022         6.1   \n",
      "\n",
      "   Message   Borough  \n",
      "0      NaN    Queens  \n",
      "1      NaN  Brooklyn  \n",
      "2      NaN  Brooklyn  \n",
      "3      NaN    Queens  \n",
      "4      NaN    Queens  \n"
     ]
    }
   ],
   "source": [
    "#Mapeo de 'Geo Place Name' a 'Borough'\n",
    "mapeo_lugares_a_borough = {\n",
    "    'Morrisania and Crotona (CD3)': 'Bronx',\n",
    "    'Bedford Stuyvesant (CD3)': 'Brooklyn',\n",
    "    'Tottenville and Great Kills (CD3)': 'Staten Island',\n",
    "    'Chelsea-Village': 'Manhattan',\n",
    "    'Bedford Stuyvesant - Crown Heights': 'Brooklyn',\n",
    "    'Flushing - Clearview': 'Queens',\n",
    "    'Fordham - Bronx Pk': 'Bronx',\n",
    "    'Pelham - Throgs Neck': 'Bronx',\n",
    "    'East Harlem': 'Manhattan',\n",
    "    'East New York': 'Brooklyn',\n",
    "    'Upper East Side-Gramercy': 'Manhattan',\n",
    "    'South Beach - Tottenville': 'Staten Island',\n",
    "    'Bayside - Little Neck': 'Queens',\n",
    "    'Flushing and Whitestone (CD7)': 'Queens',\n",
    "    'Flatbush and Midwood (CD14)': 'Brooklyn',\n",
    "    'Sunset Park': 'Brooklyn',\n",
    "    'Bayside Little Neck-Fresh Meadows': 'Queens',\n",
    "    'Southeast Queens': 'Queens',\n",
    "    'Bensonhurst - Bay Ridge': 'Brooklyn',\n",
    "    'Union Square-Lower Manhattan': 'Manhattan',\n",
    "    'South Ozone Park and Howard Beach (CD10)': 'Queens',\n",
    "    'Jamaica and Hollis (CD12)': 'Queens',\n",
    "    'Throgs Neck and Co-op City (CD10)': 'Bronx',\n",
    "    'Borough Park (CD12)': 'Brooklyn',\n",
    "    'Williamsburg - Bushwick': 'Brooklyn',\n",
    "    'Ridgewood - Forest Hills': 'Queens',\n",
    "    'Willowbrook': 'Staten Island',\n",
    "    'Hillcrest and Fresh Meadows (CD8)': 'Queens',\n",
    "    'Rego Park and Forest Hills (CD6)': 'Queens',\n",
    "    'Clinton and Chelsea (CD4)': 'Manhattan',\n",
    "    'Stuyvesant Town and Turtle Bay (CD6)': 'Manhattan',\n",
    "    'Riverdale and Fieldston (CD8)': 'Bronx',\n",
    "    'South Beach and Willowbrook (CD2)': 'Staten Island',\n",
    "    'Financial District (CD1)': 'Manhattan',\n",
    "    'Woodside and Sunnyside (CD2)': 'Queens',\n",
    "    'Greenpoint and Williamsburg (CD1)': 'Brooklyn',\n",
    "    'St. George and Stapleton (CD1)': 'Staten Island',\n",
    "    'Fort Greene and Brooklyn Heights (CD2)': 'Brooklyn',\n",
    "    'Mott Haven and Melrose (CD1)': 'Bronx',\n",
    "    'Upper West Side': 'Manhattan',\n",
    "    'Hunts Point and Longwood (CD2)': 'Bronx',\n",
    "    'Long Island City and Astoria (CD1)': 'Queens',\n",
    "    'Coney Island - Sheepshead Bay': 'Brooklyn',\n",
    "    'Manhattan': 'Manhattan',\n",
    "    'High Bridge - Morrisania': 'Bronx',\n",
    "    'Union Square - Lower East Side': 'Manhattan',\n",
    "    'Greenwich Village and Soho (CD2)': 'Manhattan',\n",
    "    'Kingsbridge - Riverdale': 'Bronx',\n",
    "    'Northeast Bronx': 'Bronx',\n",
    "    'West Queens': 'Queens',\n",
    "    'Jackson Heights (CD3)': 'Queens',\n",
    "    'Flatlands and Canarsie (CD18)': 'Brooklyn',\n",
    "    'East Flatbush (CD17)': 'Brooklyn',\n",
    "    'Central Harlem - Morningside Heights': 'Manhattan',\n",
    "    'Downtown - Heights - Slope': 'Brooklyn',\n",
    "    'Southwest Queens': 'Queens',\n",
    "    'Washington Heights': 'Manhattan',\n",
    "    'Upper West Side (CD7)': 'Manhattan',\n",
    "    'Rockaway and Broad Channel (CD14)': 'Queens',\n",
    "    'Kingsbridge Heights and Bedford (CD7)': 'Bronx',\n",
    "    'Sunset Park (CD7)': 'Brooklyn',\n",
    "    'Williamsbridge and Baychester (CD12)': 'Bronx',\n",
    "    'Washington Heights and Inwood (CD12)': 'Manhattan',\n",
    "    'Upper East Side (CD8)': 'Manhattan',\n",
    "    'Long Island City - Astoria': 'Queens',\n",
    "    'Port Richmond': 'Staten Island',\n",
    "    'Bay Ridge and Dyker Heights (CD10)': 'Brooklyn',\n",
    "    'Central Harlem (CD10)': 'Manhattan',\n",
    "    'New York City': 'Manhattan',\n",
    "    'Jamaica': 'Queens',\n",
    "    'Canarsie - Flatlands': 'Brooklyn',\n",
    "    'Coney Island (CD13)': 'Brooklyn',\n",
    "    'Sheepshead Bay (CD15)': 'Brooklyn',\n",
    "    'Queens': 'Queens',\n",
    "    'Queens Village (CD13)': 'Queens',\n",
    "    'Rockaways': 'Queens',\n",
    "    'Lower Manhattan': 'Manhattan',\n",
    "    'Crown Heights and Prospect Heights (CD8)': 'Brooklyn',\n",
    "    'Belmont and East Tremont (CD6)': 'Bronx',\n",
    "    'Park Slope and Carroll Gardens (CD6)': 'Brooklyn',\n",
    "    'Crotona -Tremont': 'Bronx',\n",
    "    'Upper East Side': 'Manhattan',\n",
    "    'Ridgewood and Maspeth (CD5)': 'Queens',\n",
    "    'Midtown (CD5)': 'Manhattan',\n",
    "    'Fresh Meadows': 'Queens',\n",
    "    'East Flatbush - Flatbush': 'Brooklyn',\n",
    "    'Fordham and University Heights (CD5)': 'Bronx',\n",
    "    'East New York and Starrett City (CD5)': 'Brooklyn',\n",
    "    'Chelsea - Clinton': 'Manhattan',\n",
    "    'Bayside and Little Neck (CD11)': 'Queens',\n",
    "    'East Harlem (CD11)': 'Manhattan',\n",
    "    'Morningside Heights and Hamilton Heights (CD9)': 'Manhattan',\n",
    "    'Bensonhurst (CD11)': 'Brooklyn',\n",
    "    'Morris Park and Bronxdale (CD11)': 'Bronx',\n",
    "    'Kew Gardens and Woodhaven (CD9)': 'Queens',\n",
    "    'Stapleton - St. George': 'Staten Island',\n",
    "    'South Crown Heights and Lefferts Gardens (CD9)': 'Brooklyn',\n",
    "    'Parkchester and Soundview (CD9)': 'Bronx',\n",
    "    'Brownsville (CD16)': 'Brooklyn',\n",
    "    'Gramercy Park - Murray Hill': 'Manhattan',\n",
    "    'Greenwich Village - SoHo': 'Manhattan',\n",
    "    'Hunts Point - Mott Haven': 'Bronx',\n",
    "    'Bronx': 'Bronx',\n",
    "    'Elmhurst and Corona (CD4)': 'Queens',\n",
    "    'Highbridge and Concourse (CD4)': 'Bronx',\n",
    "    'Bushwick (CD4)': 'Brooklyn',\n",
    "    'Brooklyn': 'Brooklyn',\n",
    "    'Lower East Side and Chinatown (CD3)': 'Manhattan',\n",
    "    'South Bronx': 'Bronx',\n",
    "    'Southern SI': 'Staten Island',\n",
    "    'Northern SI': 'Staten Island'\n",
    "}\n",
    "\n",
    "\n",
    "#Agrego nueva columna 'Borough' al DataFrame original.\n",
    "df_NYC_air_quality['Borough'] = df_NYC_air_quality['Geo Place Name'].map(mapeo_lugares_a_borough)\n",
    "\n",
    "#Verifico el resultado\n",
    "print(df_NYC_air_quality.head())"
   ]
  },
  {
   "cell_type": "markdown",
   "metadata": {},
   "source": [
    "Volvemos a ver nuevamente el data frame para verificar si a cada 'Geo Place Name' se les asigno bien su respectivo 'Borough'."
   ]
  },
  {
   "cell_type": "code",
   "execution_count": 8,
   "metadata": {},
   "outputs": [
    {
     "name": "stdout",
     "output_type": "stream",
     "text": [
      "<class 'pandas.core.frame.DataFrame'>\n",
      "RangeIndex: 18025 entries, 0 to 18024\n",
      "Data columns (total 13 columns):\n",
      " #   Column          Non-Null Count  Dtype  \n",
      "---  ------          --------------  -----  \n",
      " 0   Unique ID       18025 non-null  int64  \n",
      " 1   Indicator ID    18025 non-null  int64  \n",
      " 2   Name            18025 non-null  object \n",
      " 3   Measure         18025 non-null  object \n",
      " 4   Measure Info    18025 non-null  object \n",
      " 5   Geo Type Name   18025 non-null  object \n",
      " 6   Geo Join ID     18016 non-null  float64\n",
      " 7   Geo Place Name  18016 non-null  object \n",
      " 8   Time Period     18025 non-null  object \n",
      " 9   Start_Date      18025 non-null  object \n",
      " 10  Data Value      18025 non-null  float64\n",
      " 11  Message         0 non-null      float64\n",
      " 12  Borough         17308 non-null  object \n",
      "dtypes: float64(3), int64(2), object(8)\n",
      "memory usage: 1.8+ MB\n",
      "None\n"
     ]
    }
   ],
   "source": [
    "print(df_NYC_air_quality.info())"
   ]
  },
  {
   "cell_type": "markdown",
   "metadata": {},
   "source": [
    "Se filtra para saber a qué elemento de 'Geo Place Name' no se le asignó su 'Borough'."
   ]
  },
  {
   "cell_type": "code",
   "execution_count": 10,
   "metadata": {},
   "outputs": [
    {
     "name": "stdout",
     "output_type": "stream",
     "text": [
      "Greenpoint\n",
      "Borough Park\n",
      "Staten Island\n",
      "nan\n"
     ]
    }
   ],
   "source": [
    "#Filtro el DataFrame para las filas donde 'Borough' es nulo\n",
    "filas_sin_borough = df_NYC_air_quality[df_NYC_air_quality['Borough'].isnull()]\n",
    "\n",
    "#Obtengo los elementos únicos de 'Geo Place Name' sin 'Borough'\n",
    "lugares_sin_borough_unicos = filas_sin_borough['Geo Place Name'].unique()\n",
    "\n",
    "#Se imprimen los elementos únicos sin 'Borough'\n",
    "for lugar in lugares_sin_borough_unicos:\n",
    "    print(lugar)"
   ]
  },
  {
   "cell_type": "code",
   "execution_count": 11,
   "metadata": {},
   "outputs": [
    {
     "name": "stdout",
     "output_type": "stream",
     "text": [
      "      Geo Place Name   Borough\n",
      "102       Greenpoint  Brooklyn\n",
      "103       Greenpoint  Brooklyn\n",
      "104       Greenpoint  Brooklyn\n",
      "105       Greenpoint  Brooklyn\n",
      "108       Greenpoint  Brooklyn\n",
      "...              ...       ...\n",
      "17891     Greenpoint  Brooklyn\n",
      "17900     Greenpoint  Brooklyn\n",
      "17974     Greenpoint  Brooklyn\n",
      "17977     Greenpoint  Brooklyn\n",
      "17978     Greenpoint  Brooklyn\n",
      "\n",
      "[708 rows x 2 columns]\n"
     ]
    }
   ],
   "source": [
    "#Mapeo adicional para los lugares identificados\n",
    "mapeo_lugares_adicional = {\n",
    "    'Borough Park': 'Brooklyn',\n",
    "    'Greenpoint': 'Brooklyn',\n",
    "    'Staten Island': 'Staten Island'\n",
    "}\n",
    "\n",
    "#Actualización del DataFrame para asignar los Boroughs correspondientes\n",
    "df_NYC_air_quality.loc[df_NYC_air_quality['Geo Place Name'].isin(mapeo_lugares_adicional.keys()), 'Borough'] = df_NYC_air_quality['Geo Place Name'].map(mapeo_lugares_adicional)\n",
    "\n",
    "#Verificar que se hayan actualizado correctamente\n",
    "print(df_NYC_air_quality[df_NYC_air_quality['Geo Place Name'].isin(mapeo_lugares_adicional.keys())][['Geo Place Name', 'Borough']])"
   ]
  },
  {
   "cell_type": "markdown",
   "metadata": {},
   "source": [
    "Revisamos nuevamente si los 'Geo Place Name' tienen asignado su 'Borough'."
   ]
  },
  {
   "cell_type": "code",
   "execution_count": 12,
   "metadata": {},
   "outputs": [
    {
     "name": "stdout",
     "output_type": "stream",
     "text": [
      "<class 'pandas.core.frame.DataFrame'>\n",
      "RangeIndex: 18025 entries, 0 to 18024\n",
      "Data columns (total 13 columns):\n",
      " #   Column          Non-Null Count  Dtype  \n",
      "---  ------          --------------  -----  \n",
      " 0   Unique ID       18025 non-null  int64  \n",
      " 1   Indicator ID    18025 non-null  int64  \n",
      " 2   Name            18025 non-null  object \n",
      " 3   Measure         18025 non-null  object \n",
      " 4   Measure Info    18025 non-null  object \n",
      " 5   Geo Type Name   18025 non-null  object \n",
      " 6   Geo Join ID     18016 non-null  float64\n",
      " 7   Geo Place Name  18016 non-null  object \n",
      " 8   Time Period     18025 non-null  object \n",
      " 9   Start_Date      18025 non-null  object \n",
      " 10  Data Value      18025 non-null  float64\n",
      " 11  Message         0 non-null      float64\n",
      " 12  Borough         18016 non-null  object \n",
      "dtypes: float64(3), int64(2), object(8)\n",
      "memory usage: 1.8+ MB\n",
      "None\n"
     ]
    }
   ],
   "source": [
    "print(df_NYC_air_quality.info())"
   ]
  },
  {
   "cell_type": "code",
   "execution_count": 13,
   "metadata": {},
   "outputs": [
    {
     "name": "stdout",
     "output_type": "stream",
     "text": [
      "Number per km2\n",
      "Mean\n",
      "Estimated annual rate (under age 18)\n",
      "Million miles\n",
      "Estimated annual rate (age 18+)\n",
      "Estimated annual rate\n",
      "Annual average concentration\n",
      "Estimated annual rate (age 30+)\n"
     ]
    }
   ],
   "source": [
    "#Obtengo los elementos únicos de la columna 'measure'\n",
    "medidas_unicas = df_NYC_air_quality['Measure'].unique()\n",
    "\n",
    "#Imprimo los elementos únicos\n",
    "for medida in medidas_unicas:\n",
    "    print(medida)"
   ]
  },
  {
   "cell_type": "markdown",
   "metadata": {},
   "source": [
    "Se eliminan las columnas que no son necesarias para el estudio del la contaminacion en NYC."
   ]
  },
  {
   "cell_type": "code",
   "execution_count": 14,
   "metadata": {},
   "outputs": [],
   "source": [
    "#Lista de columnas a eliminar\n",
    "columnas_a_eliminar = ['Indicator ID','Measure','Geo Type Name','Geo Join ID','Geo Place Name','Time Period','Message','Unique ID']\n",
    "\n",
    "#Eliminar las columnas\n",
    "df_NYC_air_quality = df_NYC_air_quality.drop(columnas_a_eliminar, axis=1)"
   ]
  },
  {
   "cell_type": "markdown",
   "metadata": {},
   "source": [
    "Eliminamos los valores que no hacen referencia a la contaminacion producto de los automoviles."
   ]
  },
  {
   "cell_type": "code",
   "execution_count": 15,
   "metadata": {},
   "outputs": [],
   "source": [
    "#Lista de valores a eliminar\n",
    "valores_a_eliminar = [\n",
    "    'Asthma emergency department visits due to PM2.5',\n",
    "    'Cardiac and respiratory deaths due to Ozone',\n",
    "    'Deaths due to PM2.5',\n",
    "    'Respiratory hospitalizations due to PM2.5 (age 20+)',\n",
    "    'Asthma hospitalizations due to Ozone',\n",
    "    'Asthma emergency departments visits due to Ozone',\n",
    "    'Cardiovascular hospitalizations due to PM2.5 (age 40+)',\n",
    "    'Boiler Emissions- Total NOx Emissions',\n",
    "    'Boiler Emissions- Total PM2.5 Emissions',\n",
    "    'Boiler Emissions- Total SO2 Emissions',\n",
    "    'Annual vehicle miles traveled (trucks)',\n",
    "    'Annual vehicle miles traveled (cars)',\n",
    "    'Annual vehicle miles traveled'\n",
    "]\n",
    "\n",
    "#Eliminar las filas que contienen los valores especificados en la columna 'contaminante'\n",
    "df_NYC_air_quality = df_NYC_air_quality[~df_NYC_air_quality['Name'].isin(valores_a_eliminar)]"
   ]
  },
  {
   "cell_type": "markdown",
   "metadata": {},
   "source": [
    "Normalizamos la unidad de medida."
   ]
  },
  {
   "cell_type": "code",
   "execution_count": 18,
   "metadata": {},
   "outputs": [],
   "source": [
    "#Reemplazar los valores \"Âµg/m3\" por \"mcg/m3\" en la columna 'measure_info' tratando la codificación incorrecta\n",
    "df_NYC_air_quality.loc[:, 'Measure Info'] = df_NYC_air_quality['Measure Info'].str.replace(\"Âµg/m3\", \"mcg/m3\", regex=False)"
   ]
  },
  {
   "cell_type": "markdown",
   "metadata": {},
   "source": [
    "Transformar la columna 'Start_Date' en datetime."
   ]
  },
  {
   "cell_type": "code",
   "execution_count": 16,
   "metadata": {},
   "outputs": [
    {
     "name": "stdout",
     "output_type": "stream",
     "text": [
      "<class 'pandas.core.frame.DataFrame'>\n",
      "Index: 14365 entries, 2 to 17984\n",
      "Data columns (total 5 columns):\n",
      " #   Column        Non-Null Count  Dtype         \n",
      "---  ------        --------------  -----         \n",
      " 0   Name          14365 non-null  object        \n",
      " 1   Measure Info  14365 non-null  object        \n",
      " 2   Start_Date    14365 non-null  datetime64[ns]\n",
      " 3   Data Value    14365 non-null  float64       \n",
      " 4   Borough       14365 non-null  object        \n",
      "dtypes: datetime64[ns](1), float64(1), object(3)\n",
      "memory usage: 673.4+ KB\n",
      "None\n"
     ]
    }
   ],
   "source": [
    "#Convierto la columna 'Start_Date' a tipo datetime usando .astype()\n",
    "df_NYC_air_quality['Start_Date'] = df_NYC_air_quality['Start_Date'].astype('datetime64[ns]')\n",
    "\n",
    "\n",
    "#Verificar el resultado\n",
    "print(df_NYC_air_quality.info())"
   ]
  },
  {
   "cell_type": "markdown",
   "metadata": {},
   "source": [
    "Ordenamos el dataset en función de 'Start_Date' de manera ascendente."
   ]
  },
  {
   "cell_type": "code",
   "execution_count": 19,
   "metadata": {},
   "outputs": [
    {
     "name": "stdout",
     "output_type": "stream",
     "text": [
      "                                    Name Measure Info Start_Date  Data Value  \\\n",
      "10779  Outdoor Air Toxics - Formaldehyde       mcg/m3 2005-01-01         4.0   \n",
      "13196       Outdoor Air Toxics - Benzene       mcg/m3 2005-01-01         1.9   \n",
      "12950  Outdoor Air Toxics - Formaldehyde       mcg/m3 2005-01-01         2.7   \n",
      "5460   Outdoor Air Toxics - Formaldehyde       mcg/m3 2005-01-01         3.2   \n",
      "12865       Outdoor Air Toxics - Benzene       mcg/m3 2005-01-01         2.8   \n",
      "\n",
      "         Borough  \n",
      "10779  Manhattan  \n",
      "13196     Queens  \n",
      "12950     Queens  \n",
      "5460    Brooklyn  \n",
      "12865   Brooklyn  \n"
     ]
    }
   ],
   "source": [
    "#Ordeno el DataFrame en función de 'Start_Date' en orden ascendente\n",
    "df_NYC_air_quality = df_NYC_air_quality.sort_values(by='Start_Date', ascending=True)\n",
    "\n",
    "#Verificar el resultado\n",
    "print(df_NYC_air_quality.head())"
   ]
  },
  {
   "cell_type": "markdown",
   "metadata": {},
   "source": [
    "Cambiamos el nombre a las columnas 'Name', 'Start_Date', 'Borough'."
   ]
  },
  {
   "cell_type": "code",
   "execution_count": 20,
   "metadata": {},
   "outputs": [],
   "source": [
    "df_NYC_air_quality = df_NYC_air_quality.rename(columns={\n",
    "    'Name': 'contaminante',\n",
    "    'Start_Date': 'fecha',\n",
    "    'Borough': 'Barrio'\n",
    "})"
   ]
  },
  {
   "cell_type": "markdown",
   "metadata": {},
   "source": [
    "Exporto el DF a tipo parquet."
   ]
  },
  {
   "cell_type": "code",
   "execution_count": 21,
   "metadata": {},
   "outputs": [],
   "source": [
    "df_NYC_air_quality.to_parquet('NYC_air_quality.parquet', index=False)"
   ]
  }
 ],
 "metadata": {
  "kernelspec": {
   "display_name": "Python 3",
   "language": "python",
   "name": "python3"
  },
  "language_info": {
   "codemirror_mode": {
    "name": "ipython",
    "version": 3
   },
   "file_extension": ".py",
   "mimetype": "text/x-python",
   "name": "python",
   "nbconvert_exporter": "python",
   "pygments_lexer": "ipython3",
   "version": "3.10.5"
  }
 },
 "nbformat": 4,
 "nbformat_minor": 2
}
